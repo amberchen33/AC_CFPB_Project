{
 "cells": [
  {
   "cell_type": "code",
   "execution_count": 12,
   "metadata": {
    "collapsed": true
   },
   "outputs": [],
   "source": [
    "import numpy as np\n",
    "import pandas as pd\n",
    "%matplotlib inline\n",
    "import matplotlib.pyplot as plt\n",
    "plt.style.use('ggplot')\n",
    "import seaborn as sns\n",
    "import warnings\n",
    "warnings.filterwarnings('ignore')"
   ]
  },
  {
   "cell_type": "code",
   "execution_count": 2,
   "metadata": {
    "collapsed": false
   },
   "outputs": [
    {
     "data": {
      "text/plain": [
       "(875844, 18)"
      ]
     },
     "execution_count": 2,
     "metadata": {},
     "output_type": "execute_result"
    }
   ],
   "source": [
    "data = pd.read_csv('/Volumes/Transcend/gwu_course/project/Consumer_Complaints.csv')\n",
    "data.shape"
   ]
  },
  {
   "cell_type": "code",
   "execution_count": 3,
   "metadata": {
    "collapsed": true
   },
   "outputs": [],
   "source": [
    "data.columns = ['Date_received', 'Product', 'Sub-product', 'Issue', 'Sub-issue',\n",
    "       'Consumer_complaint_narrative', 'Company_public_response', 'Company',\n",
    "       'State', 'ZIP_code', 'Tags', 'Consumer_consent_provided',\n",
    "       'Submitted_via', 'Date_sent_to_company', 'Company_response_to_consumer',\n",
    "       'Timely_response', 'Consumer_disputed', 'Complaint_ID']"
   ]
  },
  {
   "cell_type": "code",
   "execution_count": 4,
   "metadata": {
    "collapsed": false
   },
   "outputs": [
    {
     "data": {
      "text/html": [
       "<div>\n",
       "<style>\n",
       "    .dataframe thead tr:only-child th {\n",
       "        text-align: right;\n",
       "    }\n",
       "\n",
       "    .dataframe thead th {\n",
       "        text-align: left;\n",
       "    }\n",
       "\n",
       "    .dataframe tbody tr th {\n",
       "        vertical-align: top;\n",
       "    }\n",
       "</style>\n",
       "<table border=\"1\" class=\"dataframe\">\n",
       "  <thead>\n",
       "    <tr style=\"text-align: right;\">\n",
       "      <th></th>\n",
       "      <th>Date_received</th>\n",
       "      <th>Product</th>\n",
       "      <th>Sub-product</th>\n",
       "      <th>Issue</th>\n",
       "      <th>Sub-issue</th>\n",
       "      <th>Consumer_complaint_narrative</th>\n",
       "      <th>Company_public_response</th>\n",
       "      <th>Company</th>\n",
       "      <th>State</th>\n",
       "      <th>ZIP_code</th>\n",
       "      <th>Tags</th>\n",
       "      <th>Consumer_consent_provided</th>\n",
       "      <th>Submitted_via</th>\n",
       "      <th>Date_sent_to_company</th>\n",
       "      <th>Company_response_to_consumer</th>\n",
       "      <th>Timely_response</th>\n",
       "      <th>Consumer_disputed</th>\n",
       "      <th>Complaint_ID</th>\n",
       "    </tr>\n",
       "  </thead>\n",
       "  <tbody>\n",
       "    <tr>\n",
       "      <th>0</th>\n",
       "      <td>03/12/2014</td>\n",
       "      <td>Mortgage</td>\n",
       "      <td>Other mortgage</td>\n",
       "      <td>Loan modification,collection,foreclosure</td>\n",
       "      <td>NaN</td>\n",
       "      <td>NaN</td>\n",
       "      <td>NaN</td>\n",
       "      <td>M&amp;T BANK CORPORATION</td>\n",
       "      <td>MI</td>\n",
       "      <td>48382</td>\n",
       "      <td>NaN</td>\n",
       "      <td>NaN</td>\n",
       "      <td>Referral</td>\n",
       "      <td>03/17/2014</td>\n",
       "      <td>Closed with explanation</td>\n",
       "      <td>Yes</td>\n",
       "      <td>No</td>\n",
       "      <td>759217</td>\n",
       "    </tr>\n",
       "    <tr>\n",
       "      <th>1</th>\n",
       "      <td>10/01/2016</td>\n",
       "      <td>Credit reporting</td>\n",
       "      <td>NaN</td>\n",
       "      <td>Incorrect information on credit report</td>\n",
       "      <td>Account status</td>\n",
       "      <td>I have outdated information on my credit repor...</td>\n",
       "      <td>Company has responded to the consumer and the ...</td>\n",
       "      <td>TRANSUNION INTERMEDIATE HOLDINGS, INC.</td>\n",
       "      <td>AL</td>\n",
       "      <td>352XX</td>\n",
       "      <td>NaN</td>\n",
       "      <td>Consent provided</td>\n",
       "      <td>Web</td>\n",
       "      <td>10/05/2016</td>\n",
       "      <td>Closed with explanation</td>\n",
       "      <td>Yes</td>\n",
       "      <td>No</td>\n",
       "      <td>2141773</td>\n",
       "    </tr>\n",
       "    <tr>\n",
       "      <th>2</th>\n",
       "      <td>10/17/2016</td>\n",
       "      <td>Consumer Loan</td>\n",
       "      <td>Vehicle loan</td>\n",
       "      <td>Managing the loan or lease</td>\n",
       "      <td>NaN</td>\n",
       "      <td>I purchased a new car on XXXX XXXX. The car de...</td>\n",
       "      <td>NaN</td>\n",
       "      <td>CITIZENS FINANCIAL GROUP, INC.</td>\n",
       "      <td>PA</td>\n",
       "      <td>177XX</td>\n",
       "      <td>Older American</td>\n",
       "      <td>Consent provided</td>\n",
       "      <td>Web</td>\n",
       "      <td>10/20/2016</td>\n",
       "      <td>Closed with explanation</td>\n",
       "      <td>Yes</td>\n",
       "      <td>No</td>\n",
       "      <td>2163100</td>\n",
       "    </tr>\n",
       "  </tbody>\n",
       "</table>\n",
       "</div>"
      ],
      "text/plain": [
       "  Date_received           Product     Sub-product  \\\n",
       "0    03/12/2014          Mortgage  Other mortgage   \n",
       "1    10/01/2016  Credit reporting             NaN   \n",
       "2    10/17/2016     Consumer Loan    Vehicle loan   \n",
       "\n",
       "                                      Issue       Sub-issue  \\\n",
       "0  Loan modification,collection,foreclosure             NaN   \n",
       "1    Incorrect information on credit report  Account status   \n",
       "2                Managing the loan or lease             NaN   \n",
       "\n",
       "                        Consumer_complaint_narrative  \\\n",
       "0                                                NaN   \n",
       "1  I have outdated information on my credit repor...   \n",
       "2  I purchased a new car on XXXX XXXX. The car de...   \n",
       "\n",
       "                             Company_public_response  \\\n",
       "0                                                NaN   \n",
       "1  Company has responded to the consumer and the ...   \n",
       "2                                                NaN   \n",
       "\n",
       "                                  Company State ZIP_code            Tags  \\\n",
       "0                    M&T BANK CORPORATION    MI    48382             NaN   \n",
       "1  TRANSUNION INTERMEDIATE HOLDINGS, INC.    AL    352XX             NaN   \n",
       "2          CITIZENS FINANCIAL GROUP, INC.    PA    177XX  Older American   \n",
       "\n",
       "  Consumer_consent_provided Submitted_via Date_sent_to_company  \\\n",
       "0                       NaN      Referral           03/17/2014   \n",
       "1          Consent provided           Web           10/05/2016   \n",
       "2          Consent provided           Web           10/20/2016   \n",
       "\n",
       "  Company_response_to_consumer Timely_response Consumer_disputed  Complaint_ID  \n",
       "0      Closed with explanation             Yes                No        759217  \n",
       "1      Closed with explanation             Yes                No       2141773  \n",
       "2      Closed with explanation             Yes                No       2163100  "
      ]
     },
     "execution_count": 4,
     "metadata": {},
     "output_type": "execute_result"
    }
   ],
   "source": [
    "data.head(3)"
   ]
  },
  {
   "cell_type": "markdown",
   "metadata": {},
   "source": [
    "### Label"
   ]
  },
  {
   "cell_type": "code",
   "execution_count": 5,
   "metadata": {
    "collapsed": false
   },
   "outputs": [
    {
     "data": {
      "text/html": [
       "<div>\n",
       "<style>\n",
       "    .dataframe thead tr:only-child th {\n",
       "        text-align: right;\n",
       "    }\n",
       "\n",
       "    .dataframe thead th {\n",
       "        text-align: left;\n",
       "    }\n",
       "\n",
       "    .dataframe tbody tr th {\n",
       "        vertical-align: top;\n",
       "    }\n",
       "</style>\n",
       "<table border=\"1\" class=\"dataframe\">\n",
       "  <thead>\n",
       "    <tr style=\"text-align: right;\">\n",
       "      <th></th>\n",
       "      <th>Timely_response</th>\n",
       "      <th>Timely_response_rate</th>\n",
       "    </tr>\n",
       "  </thead>\n",
       "  <tbody>\n",
       "    <tr>\n",
       "      <th>Yes</th>\n",
       "      <td>851751</td>\n",
       "      <td>0.972492</td>\n",
       "    </tr>\n",
       "    <tr>\n",
       "      <th>No</th>\n",
       "      <td>24093</td>\n",
       "      <td>0.027508</td>\n",
       "    </tr>\n",
       "  </tbody>\n",
       "</table>\n",
       "</div>"
      ],
      "text/plain": [
       "     Timely_response  Timely_response_rate\n",
       "Yes           851751              0.972492\n",
       "No             24093              0.027508"
      ]
     },
     "execution_count": 5,
     "metadata": {},
     "output_type": "execute_result"
    }
   ],
   "source": [
    "label = pd.DataFrame(data.Timely_response.value_counts())\n",
    "label['Timely_response_rate'] = label.Timely_response/data.shape[0]\n",
    "\n",
    "base = 0.972434\n",
    "\n",
    "label"
   ]
  },
  {
   "cell_type": "code",
   "execution_count": 6,
   "metadata": {
    "collapsed": false
   },
   "outputs": [],
   "source": [
    "data.Timely_response[data.Timely_response == 'Yes'] = 1\n",
    "data.Timely_response[data.Timely_response == 'No'] = 0\n",
    "\n",
    "data.Timely_response = data.Timely_response.astype('int')"
   ]
  },
  {
   "cell_type": "markdown",
   "metadata": {},
   "source": [
    "---"
   ]
  },
  {
   "cell_type": "markdown",
   "metadata": {},
   "source": [
    "### Missing Values"
   ]
  },
  {
   "cell_type": "code",
   "execution_count": 8,
   "metadata": {
    "collapsed": false,
    "scrolled": true
   },
   "outputs": [
    {
     "data": {
      "text/html": [
       "<div>\n",
       "<style>\n",
       "    .dataframe thead tr:only-child th {\n",
       "        text-align: right;\n",
       "    }\n",
       "\n",
       "    .dataframe thead th {\n",
       "        text-align: left;\n",
       "    }\n",
       "\n",
       "    .dataframe tbody tr th {\n",
       "        vertical-align: top;\n",
       "    }\n",
       "</style>\n",
       "<table border=\"1\" class=\"dataframe\">\n",
       "  <thead>\n",
       "    <tr style=\"text-align: right;\">\n",
       "      <th></th>\n",
       "      <th>na</th>\n",
       "      <th>na%</th>\n",
       "    </tr>\n",
       "  </thead>\n",
       "  <tbody>\n",
       "    <tr>\n",
       "      <th>Date_received</th>\n",
       "      <td>0</td>\n",
       "      <td>0.000000</td>\n",
       "    </tr>\n",
       "    <tr>\n",
       "      <th>Product</th>\n",
       "      <td>0</td>\n",
       "      <td>0.000000</td>\n",
       "    </tr>\n",
       "    <tr>\n",
       "      <th>Sub-product</th>\n",
       "      <td>235160</td>\n",
       "      <td>0.268495</td>\n",
       "    </tr>\n",
       "    <tr>\n",
       "      <th>Issue</th>\n",
       "      <td>0</td>\n",
       "      <td>0.000000</td>\n",
       "    </tr>\n",
       "    <tr>\n",
       "      <th>Sub-issue</th>\n",
       "      <td>472881</td>\n",
       "      <td>0.539915</td>\n",
       "    </tr>\n",
       "    <tr>\n",
       "      <th>Consumer_complaint_narrative</th>\n",
       "      <td>690756</td>\n",
       "      <td>0.788675</td>\n",
       "    </tr>\n",
       "    <tr>\n",
       "      <th>Company_public_response</th>\n",
       "      <td>631550</td>\n",
       "      <td>0.721076</td>\n",
       "    </tr>\n",
       "    <tr>\n",
       "      <th>Company</th>\n",
       "      <td>0</td>\n",
       "      <td>0.000000</td>\n",
       "    </tr>\n",
       "    <tr>\n",
       "      <th>State</th>\n",
       "      <td>11396</td>\n",
       "      <td>0.013011</td>\n",
       "    </tr>\n",
       "    <tr>\n",
       "      <th>ZIP_code</th>\n",
       "      <td>11445</td>\n",
       "      <td>0.013067</td>\n",
       "    </tr>\n",
       "    <tr>\n",
       "      <th>Tags</th>\n",
       "      <td>753679</td>\n",
       "      <td>0.860517</td>\n",
       "    </tr>\n",
       "    <tr>\n",
       "      <th>Consumer_consent_provided</th>\n",
       "      <td>530016</td>\n",
       "      <td>0.605149</td>\n",
       "    </tr>\n",
       "    <tr>\n",
       "      <th>Submitted_via</th>\n",
       "      <td>0</td>\n",
       "      <td>0.000000</td>\n",
       "    </tr>\n",
       "    <tr>\n",
       "      <th>Date_sent_to_company</th>\n",
       "      <td>0</td>\n",
       "      <td>0.000000</td>\n",
       "    </tr>\n",
       "    <tr>\n",
       "      <th>Company_response_to_consumer</th>\n",
       "      <td>0</td>\n",
       "      <td>0.000000</td>\n",
       "    </tr>\n",
       "    <tr>\n",
       "      <th>Timely_response</th>\n",
       "      <td>0</td>\n",
       "      <td>0.000000</td>\n",
       "    </tr>\n",
       "    <tr>\n",
       "      <th>Consumer_disputed</th>\n",
       "      <td>107290</td>\n",
       "      <td>0.122499</td>\n",
       "    </tr>\n",
       "    <tr>\n",
       "      <th>Complaint_ID</th>\n",
       "      <td>0</td>\n",
       "      <td>0.000000</td>\n",
       "    </tr>\n",
       "  </tbody>\n",
       "</table>\n",
       "</div>"
      ],
      "text/plain": [
       "                                  na       na%\n",
       "Date_received                      0  0.000000\n",
       "Product                            0  0.000000\n",
       "Sub-product                   235160  0.268495\n",
       "Issue                              0  0.000000\n",
       "Sub-issue                     472881  0.539915\n",
       "Consumer_complaint_narrative  690756  0.788675\n",
       "Company_public_response       631550  0.721076\n",
       "Company                            0  0.000000\n",
       "State                          11396  0.013011\n",
       "ZIP_code                       11445  0.013067\n",
       "Tags                          753679  0.860517\n",
       "Consumer_consent_provided     530016  0.605149\n",
       "Submitted_via                      0  0.000000\n",
       "Date_sent_to_company               0  0.000000\n",
       "Company_response_to_consumer       0  0.000000\n",
       "Timely_response                    0  0.000000\n",
       "Consumer_disputed             107290  0.122499\n",
       "Complaint_ID                       0  0.000000"
      ]
     },
     "execution_count": 8,
     "metadata": {},
     "output_type": "execute_result"
    }
   ],
   "source": [
    "na = pd.DataFrame(data.isnull().sum())\n",
    "na.columns = ['na']\n",
    "na['na%'] = na.na/data.shape[0]\n",
    "#na = na.sort(columns='na%', ascending=False)\n",
    "na"
   ]
  },
  {
   "cell_type": "code",
   "execution_count": null,
   "metadata": {
    "collapsed": true
   },
   "outputs": [],
   "source": []
  },
  {
   "cell_type": "code",
   "execution_count": 9,
   "metadata": {
    "collapsed": false
   },
   "outputs": [],
   "source": [
    "consent = data.Consumer_consent_provided\n",
    "#consent.value_counts()"
   ]
  },
  {
   "cell_type": "code",
   "execution_count": 10,
   "metadata": {
    "collapsed": false
   },
   "outputs": [],
   "source": [
    "tag = data.Tags\n",
    "#tag.value_counts()"
   ]
  },
  {
   "cell_type": "code",
   "execution_count": 13,
   "metadata": {
    "collapsed": false
   },
   "outputs": [
    {
     "data": {
      "image/png": "[encoded data removed]",
      "text/plain": [
       "<matplotlib.figure.Figure at 0x117e39160>"
      ]
     },
     "metadata": {},
     "output_type": "display_data"
    }
   ],
   "source": [
    "data_tag = data[-tag.isnull()]\n",
    "data_consent = data[-consent.isnull()]\n",
    "\n",
    "fig, ax = plt.subplots(1, 2, figsize = (15,7))\n",
    "\n",
    "sns.countplot('Tags',hue='Timely_response',data=data_tag,ax=ax[0])\n",
    "sns.countplot('Consumer_consent_provided', hue='Timely_response',data=data_consent,ax=ax[1])\n",
    "plt.show()"
   ]
  },
  {
   "cell_type": "markdown",
   "metadata": {},
   "source": [
    "Tags don't make any difference to timely response so dose Consumer_consent_provided. So they are not significant. Just delete these columns."
   ]
  },
  {
   "cell_type": "code",
   "execution_count": 11,
   "metadata": {
    "collapsed": false
   },
   "outputs": [
    {
     "data": {
      "text/html": [
       "<div>\n",
       "<table border=\"1\" class=\"dataframe\">\n",
       "  <thead>\n",
       "    <tr style=\"text-align: right;\">\n",
       "      <th></th>\n",
       "      <th>Timely_response</th>\n",
       "    </tr>\n",
       "    <tr>\n",
       "      <th>Tags</th>\n",
       "      <th></th>\n",
       "    </tr>\n",
       "  </thead>\n",
       "  <tbody>\n",
       "    <tr>\n",
       "      <th>Older American</th>\n",
       "      <td>0.976469</td>\n",
       "    </tr>\n",
       "    <tr>\n",
       "      <th>Older American, Servicemember</th>\n",
       "      <td>0.972337</td>\n",
       "    </tr>\n",
       "    <tr>\n",
       "      <th>Servicemember</th>\n",
       "      <td>0.964778</td>\n",
       "    </tr>\n",
       "  </tbody>\n",
       "</table>\n",
       "</div>"
      ],
      "text/plain": [
       "                               Timely_response\n",
       "Tags                                          \n",
       "Older American                        0.976469\n",
       "Older American, Servicemember         0.972337\n",
       "Servicemember                         0.964778"
      ]
     },
     "execution_count": 11,
     "metadata": {},
     "output_type": "execute_result"
    }
   ],
   "source": [
    "data_tag[['Tags', 'Timely_response']].groupby('Tags').mean()"
   ]
  },
  {
   "cell_type": "code",
   "execution_count": 12,
   "metadata": {
    "collapsed": false,
    "scrolled": true
   },
   "outputs": [
    {
     "data": {
      "text/html": [
       "<div>\n",
       "<table border=\"1\" class=\"dataframe\">\n",
       "  <thead>\n",
       "    <tr style=\"text-align: right;\">\n",
       "      <th></th>\n",
       "      <th>Timely_response</th>\n",
       "    </tr>\n",
       "    <tr>\n",
       "      <th>Consumer_consent_provided</th>\n",
       "      <th></th>\n",
       "    </tr>\n",
       "  </thead>\n",
       "  <tbody>\n",
       "    <tr>\n",
       "      <th>Consent not provided</th>\n",
       "      <td>0.969455</td>\n",
       "    </tr>\n",
       "    <tr>\n",
       "      <th>Consent provided</th>\n",
       "      <td>0.962594</td>\n",
       "    </tr>\n",
       "    <tr>\n",
       "      <th>Consent withdrawn</th>\n",
       "      <td>0.979070</td>\n",
       "    </tr>\n",
       "    <tr>\n",
       "      <th>Other</th>\n",
       "      <td>0.974870</td>\n",
       "    </tr>\n",
       "  </tbody>\n",
       "</table>\n",
       "</div>"
      ],
      "text/plain": [
       "                           Timely_response\n",
       "Consumer_consent_provided                 \n",
       "Consent not provided              0.969455\n",
       "Consent provided                  0.962594\n",
       "Consent withdrawn                 0.979070\n",
       "Other                             0.974870"
      ]
     },
     "execution_count": 12,
     "metadata": {},
     "output_type": "execute_result"
    }
   ],
   "source": [
    "data_consent[['Consumer_consent_provided', 'Timely_response']].groupby('Consumer_consent_provided').mean()"
   ]
  },
  {
   "cell_type": "code",
   "execution_count": 13,
   "metadata": {
    "collapsed": false
   },
   "outputs": [
    {
     "data": {
      "text/plain": [
       "\"\\nsubissue = data[['Sub-issue','Timely_response']].groupby('Sub-issue').mean()\\nsubissue_cnt = data['Sub-issue'].value_counts()\\nsubissue['cnt%'] = subissue_cnt\\n\\nsubissue.sort('Timely_response',ascending=False)\\n\""
      ]
     },
     "execution_count": 13,
     "metadata": {},
     "output_type": "execute_result"
    }
   ],
   "source": [
    "'''\n",
    "subissue = data[['Sub-issue','Timely_response']].groupby('Sub-issue').mean()\n",
    "subissue_cnt = data['Sub-issue'].value_counts()\n",
    "subissue['cnt%'] = subissue_cnt\n",
    "\n",
    "subissue.sort('Timely_response',ascending=False)\n",
    "'''"
   ]
  },
  {
   "cell_type": "markdown",
   "metadata": {},
   "source": [
    "---------"
   ]
  },
  {
   "cell_type": "markdown",
   "metadata": {},
   "source": [
    "### Product & Sub-product"
   ]
  },
  {
   "cell_type": "code",
   "execution_count": 14,
   "metadata": {
    "collapsed": false
   },
   "outputs": [],
   "source": [
    "#data.Product.value_counts()"
   ]
  },
  {
   "cell_type": "code",
   "execution_count": 15,
   "metadata": {
    "collapsed": false
   },
   "outputs": [
    {
     "data": {
      "image/png": "[encoded data removed]",
      "text/plain": [
       "<matplotlib.figure.Figure at 0x129a29a58>"
      ]
     },
     "metadata": {},
     "output_type": "display_data"
    }
   ],
   "source": [
    "f,ax=plt.subplots(figsize=(18,8))\n",
    "sns.countplot(y = 'Product',hue='Timely_response',data=data)\n",
    "plt.show()"
   ]
  },
  {
   "cell_type": "code",
   "execution_count": 16,
   "metadata": {
    "collapsed": false,
    "scrolled": true
   },
   "outputs": [
    {
     "data": {
      "text/html": [
       "<div>\n",
       "<table border=\"1\" class=\"dataframe\">\n",
       "  <thead>\n",
       "    <tr style=\"text-align: right;\">\n",
       "      <th></th>\n",
       "      <th>Timely_response</th>\n",
       "      <th>over_avg</th>\n",
       "    </tr>\n",
       "    <tr>\n",
       "      <th>Product</th>\n",
       "      <th></th>\n",
       "      <th></th>\n",
       "    </tr>\n",
       "  </thead>\n",
       "  <tbody>\n",
       "    <tr>\n",
       "      <th>Credit reporting</th>\n",
       "      <td>0.997864</td>\n",
       "      <td>1.026150</td>\n",
       "    </tr>\n",
       "    <tr>\n",
       "      <th>Credit card or prepaid card</th>\n",
       "      <td>0.993183</td>\n",
       "      <td>1.021337</td>\n",
       "    </tr>\n",
       "    <tr>\n",
       "      <th>Credit card</th>\n",
       "      <td>0.988990</td>\n",
       "      <td>1.017025</td>\n",
       "    </tr>\n",
       "    <tr>\n",
       "      <th>Student loan</th>\n",
       "      <td>0.987029</td>\n",
       "      <td>1.015009</td>\n",
       "    </tr>\n",
       "    <tr>\n",
       "      <th>Prepaid card</th>\n",
       "      <td>0.986908</td>\n",
       "      <td>1.014884</td>\n",
       "    </tr>\n",
       "    <tr>\n",
       "      <th>Checking or savings account</th>\n",
       "      <td>0.986804</td>\n",
       "      <td>1.014777</td>\n",
       "    </tr>\n",
       "    <tr>\n",
       "      <th>Money transfer, virtual currency, or money service</th>\n",
       "      <td>0.985714</td>\n",
       "      <td>1.013657</td>\n",
       "    </tr>\n",
       "    <tr>\n",
       "      <th>Credit reporting, credit repair services, or other personal consumer reports</th>\n",
       "      <td>0.981926</td>\n",
       "      <td>1.009761</td>\n",
       "    </tr>\n",
       "    <tr>\n",
       "      <th>Mortgage</th>\n",
       "      <td>0.979335</td>\n",
       "      <td>1.007096</td>\n",
       "    </tr>\n",
       "    <tr>\n",
       "      <th>Bank account or service</th>\n",
       "      <td>0.974155</td>\n",
       "      <td>1.001770</td>\n",
       "    </tr>\n",
       "    <tr>\n",
       "      <th>Money transfers</th>\n",
       "      <td>0.972726</td>\n",
       "      <td>1.000300</td>\n",
       "    </tr>\n",
       "    <tr>\n",
       "      <th>Vehicle loan or lease</th>\n",
       "      <td>0.965776</td>\n",
       "      <td>0.993153</td>\n",
       "    </tr>\n",
       "    <tr>\n",
       "      <th>Consumer Loan</th>\n",
       "      <td>0.960418</td>\n",
       "      <td>0.987643</td>\n",
       "    </tr>\n",
       "    <tr>\n",
       "      <th>Debt collection</th>\n",
       "      <td>0.929024</td>\n",
       "      <td>0.955359</td>\n",
       "    </tr>\n",
       "    <tr>\n",
       "      <th>Payday loan, title loan, or personal loan</th>\n",
       "      <td>0.926037</td>\n",
       "      <td>0.952288</td>\n",
       "    </tr>\n",
       "    <tr>\n",
       "      <th>Other financial service</th>\n",
       "      <td>0.892351</td>\n",
       "      <td>0.917647</td>\n",
       "    </tr>\n",
       "    <tr>\n",
       "      <th>Payday loan</th>\n",
       "      <td>0.891453</td>\n",
       "      <td>0.916724</td>\n",
       "    </tr>\n",
       "    <tr>\n",
       "      <th>Virtual currency</th>\n",
       "      <td>0.888889</td>\n",
       "      <td>0.914087</td>\n",
       "    </tr>\n",
       "  </tbody>\n",
       "</table>\n",
       "</div>"
      ],
      "text/plain": [
       "                                                    Timely_response  over_avg\n",
       "Product                                                                      \n",
       "Credit reporting                                           0.997864  1.026150\n",
       "Credit card or prepaid card                                0.993183  1.021337\n",
       "Credit card                                                0.988990  1.017025\n",
       "Student loan                                               0.987029  1.015009\n",
       "Prepaid card                                               0.986908  1.014884\n",
       "Checking or savings account                                0.986804  1.014777\n",
       "Money transfer, virtual currency, or money service         0.985714  1.013657\n",
       "Credit reporting, credit repair services, or ot...         0.981926  1.009761\n",
       "Mortgage                                                   0.979335  1.007096\n",
       "Bank account or service                                    0.974155  1.001770\n",
       "Money transfers                                            0.972726  1.000300\n",
       "Vehicle loan or lease                                      0.965776  0.993153\n",
       "Consumer Loan                                              0.960418  0.987643\n",
       "Debt collection                                            0.929024  0.955359\n",
       "Payday loan, title loan, or personal loan                  0.926037  0.952288\n",
       "Other financial service                                    0.892351  0.917647\n",
       "Payday loan                                                0.891453  0.916724\n",
       "Virtual currency                                           0.888889  0.914087"
      ]
     },
     "execution_count": 16,
     "metadata": {},
     "output_type": "execute_result"
    }
   ],
   "source": [
    "tr_product = pd.DataFrame(data[['Product','Timely_response']].groupby(['Product']).mean())\n",
    "tr_product['over_avg'] = tr_product.Timely_response / 0.972434\n",
    "tr_product.sort('Timely_response',ascending=False)"
   ]
  },
  {
   "cell_type": "code",
   "execution_count": 17,
   "metadata": {
    "collapsed": false
   },
   "outputs": [
    {
     "data": {
      "image/png": "[encoded data removed]",
      "text/plain": [
       "<matplotlib.figure.Figure at 0x10fea8f60>"
      ]
     },
     "metadata": {},
     "output_type": "display_data"
    }
   ],
   "source": [
    "tr_product.plot.density()\n",
    "\n",
    "yy = np.linspace(1,21,200)\n",
    "tr_base = np.array([0.972434 for i in range(len(yy))])\n",
    "plt.plot(tr_base, yy, 'r--')\n",
    "\n",
    "\n",
    "plt.show()"
   ]
  },
  {
   "cell_type": "markdown",
   "metadata": {},
   "source": [
    "Sub-product"
   ]
  },
  {
   "cell_type": "code",
   "execution_count": 18,
   "metadata": {
    "collapsed": false
   },
   "outputs": [
    {
     "data": {
      "text/html": [
       "<div>\n",
       "<table border=\"1\" class=\"dataframe\">\n",
       "  <thead>\n",
       "    <tr style=\"text-align: right;\">\n",
       "      <th></th>\n",
       "      <th>Timely_response</th>\n",
       "      <th>cnt%</th>\n",
       "    </tr>\n",
       "    <tr>\n",
       "      <th>Sub-product</th>\n",
       "      <th></th>\n",
       "      <th></th>\n",
       "    </tr>\n",
       "  </thead>\n",
       "  <tbody>\n",
       "    <tr>\n",
       "      <th>Electronic Benefit Transfer / EBT card</th>\n",
       "      <td>1.028347</td>\n",
       "      <td>0.000014</td>\n",
       "    </tr>\n",
       "    <tr>\n",
       "      <th>Government benefit card</th>\n",
       "      <td>1.028347</td>\n",
       "      <td>0.000127</td>\n",
       "    </tr>\n",
       "    <tr>\n",
       "      <th>Gift card</th>\n",
       "      <td>1.028347</td>\n",
       "      <td>0.000049</td>\n",
       "    </tr>\n",
       "    <tr>\n",
       "      <th>Check cashing service</th>\n",
       "      <td>1.028347</td>\n",
       "      <td>0.000042</td>\n",
       "    </tr>\n",
       "    <tr>\n",
       "      <th>Virtual currency</th>\n",
       "      <td>1.025676</td>\n",
       "      <td>0.000442</td>\n",
       "    </tr>\n",
       "    <tr>\n",
       "      <th>Mobile or digital wallet</th>\n",
       "      <td>1.025164</td>\n",
       "      <td>0.000370</td>\n",
       "    </tr>\n",
       "    <tr>\n",
       "      <th>General-purpose credit card or charge card</th>\n",
       "      <td>1.022395</td>\n",
       "      <td>0.007927</td>\n",
       "    </tr>\n",
       "    <tr>\n",
       "      <th>Home equity loan or line of credit (HELOC)</th>\n",
       "      <td>1.021864</td>\n",
       "      <td>0.000910</td>\n",
       "    </tr>\n",
       "    <tr>\n",
       "      <th>Store credit card</th>\n",
       "      <td>1.021622</td>\n",
       "      <td>0.001754</td>\n",
       "    </tr>\n",
       "    <tr>\n",
       "      <th>Government benefit payment card</th>\n",
       "      <td>1.020417</td>\n",
       "      <td>0.000446</td>\n",
       "    </tr>\n",
       "    <tr>\n",
       "      <th>Conventional home mortgage</th>\n",
       "      <td>1.020092</td>\n",
       "      <td>0.007001</td>\n",
       "    </tr>\n",
       "    <tr>\n",
       "      <th>Other type of mortgage</th>\n",
       "      <td>1.019784</td>\n",
       "      <td>0.003030</td>\n",
       "    </tr>\n",
       "    <tr>\n",
       "      <th>CD (Certificate of Deposit)</th>\n",
       "      <td>1.017854</td>\n",
       "      <td>0.000225</td>\n",
       "    </tr>\n",
       "    <tr>\n",
       "      <th>Other special purpose card</th>\n",
       "      <td>1.017579</td>\n",
       "      <td>0.000219</td>\n",
       "    </tr>\n",
       "    <tr>\n",
       "      <th>Private student loan</th>\n",
       "      <td>1.017384</td>\n",
       "      <td>0.002152</td>\n",
       "    </tr>\n",
       "    <tr>\n",
       "      <th>Payroll card</th>\n",
       "      <td>1.016662</td>\n",
       "      <td>0.000505</td>\n",
       "    </tr>\n",
       "    <tr>\n",
       "      <th>General purpose card</th>\n",
       "      <td>1.016608</td>\n",
       "      <td>0.002009</td>\n",
       "    </tr>\n",
       "    <tr>\n",
       "      <th>ID prepaid card</th>\n",
       "      <td>1.013444</td>\n",
       "      <td>0.000237</td>\n",
       "    </tr>\n",
       "    <tr>\n",
       "      <th>Non-federal student loan</th>\n",
       "      <td>1.013392</td>\n",
       "      <td>0.028864</td>\n",
       "    </tr>\n",
       "    <tr>\n",
       "      <th>Federal student loan servicing</th>\n",
       "      <td>1.013015</td>\n",
       "      <td>0.015001</td>\n",
       "    </tr>\n",
       "    <tr>\n",
       "      <th>Gift or merchant card</th>\n",
       "      <td>1.012999</td>\n",
       "      <td>0.000461</td>\n",
       "    </tr>\n",
       "    <tr>\n",
       "      <th>Home equity loan or line of credit</th>\n",
       "      <td>1.010657</td>\n",
       "      <td>0.013335</td>\n",
       "    </tr>\n",
       "    <tr>\n",
       "      <th>Credit reporting</th>\n",
       "      <td>1.010167</td>\n",
       "      <td>0.050993</td>\n",
       "    </tr>\n",
       "    <tr>\n",
       "      <th>Vehicle lease</th>\n",
       "      <td>1.009383</td>\n",
       "      <td>0.003047</td>\n",
       "    </tr>\n",
       "    <tr>\n",
       "      <th>Traveler's check or cashier's check</th>\n",
       "      <td>1.009304</td>\n",
       "      <td>0.000062</td>\n",
       "    </tr>\n",
       "    <tr>\n",
       "      <th>Other banking product or service</th>\n",
       "      <td>1.007883</td>\n",
       "      <td>0.001383</td>\n",
       "    </tr>\n",
       "    <tr>\n",
       "      <th>Conventional adjustable mortgage (ARM)</th>\n",
       "      <td>1.007725</td>\n",
       "      <td>0.029112</td>\n",
       "    </tr>\n",
       "    <tr>\n",
       "      <th>Federal student loan debt</th>\n",
       "      <td>1.007199</td>\n",
       "      <td>0.000446</td>\n",
       "    </tr>\n",
       "    <tr>\n",
       "      <th>Conventional fixed mortgage</th>\n",
       "      <td>1.007042</td>\n",
       "      <td>0.080991</td>\n",
       "    </tr>\n",
       "    <tr>\n",
       "      <th>Other mortgage</th>\n",
       "      <td>1.007004</td>\n",
       "      <td>0.099361</td>\n",
       "    </tr>\n",
       "    <tr>\n",
       "      <th>...</th>\n",
       "      <td>...</td>\n",
       "      <td>...</td>\n",
       "    </tr>\n",
       "    <tr>\n",
       "      <th>General-purpose prepaid card</th>\n",
       "      <td>0.996706</td>\n",
       "      <td>0.000373</td>\n",
       "    </tr>\n",
       "    <tr>\n",
       "      <th>Mortgage</th>\n",
       "      <td>0.996686</td>\n",
       "      <td>0.005513</td>\n",
       "    </tr>\n",
       "    <tr>\n",
       "      <th>Other personal consumer report</th>\n",
       "      <td>0.995134</td>\n",
       "      <td>0.000923</td>\n",
       "    </tr>\n",
       "    <tr>\n",
       "      <th>Mortgage debt</th>\n",
       "      <td>0.994367</td>\n",
       "      <td>0.000659</td>\n",
       "    </tr>\n",
       "    <tr>\n",
       "      <th>Other bank product/service</th>\n",
       "      <td>0.993388</td>\n",
       "      <td>0.020446</td>\n",
       "    </tr>\n",
       "    <tr>\n",
       "      <th>Money order</th>\n",
       "      <td>0.993090</td>\n",
       "      <td>0.000201</td>\n",
       "    </tr>\n",
       "    <tr>\n",
       "      <th>Private student loan debt</th>\n",
       "      <td>0.991838</td>\n",
       "      <td>0.000388</td>\n",
       "    </tr>\n",
       "    <tr>\n",
       "      <th>Loan</th>\n",
       "      <td>0.990767</td>\n",
       "      <td>0.002071</td>\n",
       "    </tr>\n",
       "    <tr>\n",
       "      <th>Vehicle loan</th>\n",
       "      <td>0.990751</td>\n",
       "      <td>0.020392</td>\n",
       "    </tr>\n",
       "    <tr>\n",
       "      <th>Refund anticipation check</th>\n",
       "      <td>0.990725</td>\n",
       "      <td>0.000094</td>\n",
       "    </tr>\n",
       "    <tr>\n",
       "      <th>Credit card</th>\n",
       "      <td>0.989978</td>\n",
       "      <td>0.032922</td>\n",
       "    </tr>\n",
       "    <tr>\n",
       "      <th>Check cashing</th>\n",
       "      <td>0.989688</td>\n",
       "      <td>0.000305</td>\n",
       "    </tr>\n",
       "    <tr>\n",
       "      <th>Other debt</th>\n",
       "      <td>0.986323</td>\n",
       "      <td>0.007522</td>\n",
       "    </tr>\n",
       "    <tr>\n",
       "      <th>Traveler’s/Cashier’s checks</th>\n",
       "      <td>0.981604</td>\n",
       "      <td>0.000101</td>\n",
       "    </tr>\n",
       "    <tr>\n",
       "      <th>Reverse mortgage</th>\n",
       "      <td>0.979997</td>\n",
       "      <td>0.002635</td>\n",
       "    </tr>\n",
       "    <tr>\n",
       "      <th>Installment loan</th>\n",
       "      <td>0.972618</td>\n",
       "      <td>0.010709</td>\n",
       "    </tr>\n",
       "    <tr>\n",
       "      <th>Credit repair services</th>\n",
       "      <td>0.970862</td>\n",
       "      <td>0.000185</td>\n",
       "    </tr>\n",
       "    <tr>\n",
       "      <th>Auto debt</th>\n",
       "      <td>0.967558</td>\n",
       "      <td>0.000698</td>\n",
       "    </tr>\n",
       "    <tr>\n",
       "      <th>Medical debt</th>\n",
       "      <td>0.967140</td>\n",
       "      <td>0.003777</td>\n",
       "    </tr>\n",
       "    <tr>\n",
       "      <th>Title loan</th>\n",
       "      <td>0.966242</td>\n",
       "      <td>0.000817</td>\n",
       "    </tr>\n",
       "    <tr>\n",
       "      <th>Auto</th>\n",
       "      <td>0.960978</td>\n",
       "      <td>0.004307</td>\n",
       "    </tr>\n",
       "    <tr>\n",
       "      <th>Other (i.e. phone, health club, etc.)</th>\n",
       "      <td>0.958714</td>\n",
       "      <td>0.051103</td>\n",
       "    </tr>\n",
       "    <tr>\n",
       "      <th>Pawn loan</th>\n",
       "      <td>0.957775</td>\n",
       "      <td>0.000117</td>\n",
       "    </tr>\n",
       "    <tr>\n",
       "      <th>Foreign currency exchange</th>\n",
       "      <td>0.944968</td>\n",
       "      <td>0.000085</td>\n",
       "    </tr>\n",
       "    <tr>\n",
       "      <th>I do not know</th>\n",
       "      <td>0.939909</td>\n",
       "      <td>0.038490</td>\n",
       "    </tr>\n",
       "    <tr>\n",
       "      <th>Medical</th>\n",
       "      <td>0.921692</td>\n",
       "      <td>0.024329</td>\n",
       "    </tr>\n",
       "    <tr>\n",
       "      <th>Payday loan debt</th>\n",
       "      <td>0.874686</td>\n",
       "      <td>0.000798</td>\n",
       "    </tr>\n",
       "    <tr>\n",
       "      <th>Credit repair</th>\n",
       "      <td>0.867038</td>\n",
       "      <td>0.000117</td>\n",
       "    </tr>\n",
       "    <tr>\n",
       "      <th>Payday loan</th>\n",
       "      <td>0.855032</td>\n",
       "      <td>0.009296</td>\n",
       "    </tr>\n",
       "    <tr>\n",
       "      <th>Debt settlement</th>\n",
       "      <td>0.823232</td>\n",
       "      <td>0.000426</td>\n",
       "    </tr>\n",
       "  </tbody>\n",
       "</table>\n",
       "<p>75 rows × 2 columns</p>\n",
       "</div>"
      ],
      "text/plain": [
       "                                            Timely_response      cnt%\n",
       "Sub-product                                                          \n",
       "Electronic Benefit Transfer / EBT card             1.028347  0.000014\n",
       "Government benefit card                            1.028347  0.000127\n",
       "Gift card                                          1.028347  0.000049\n",
       "Check cashing service                              1.028347  0.000042\n",
       "Virtual currency                                   1.025676  0.000442\n",
       "Mobile or digital wallet                           1.025164  0.000370\n",
       "General-purpose credit card or charge card         1.022395  0.007927\n",
       "Home equity loan or line of credit (HELOC)         1.021864  0.000910\n",
       "Store credit card                                  1.021622  0.001754\n",
       "Government benefit payment card                    1.020417  0.000446\n",
       "Conventional home mortgage                         1.020092  0.007001\n",
       "Other type of mortgage                             1.019784  0.003030\n",
       "CD (Certificate of Deposit)                        1.017854  0.000225\n",
       "Other special purpose card                         1.017579  0.000219\n",
       "Private student loan                               1.017384  0.002152\n",
       "Payroll card                                       1.016662  0.000505\n",
       "General purpose card                               1.016608  0.002009\n",
       "ID prepaid card                                    1.013444  0.000237\n",
       "Non-federal student loan                           1.013392  0.028864\n",
       "Federal student loan servicing                     1.013015  0.015001\n",
       "Gift or merchant card                              1.012999  0.000461\n",
       "Home equity loan or line of credit                 1.010657  0.013335\n",
       "Credit reporting                                   1.010167  0.050993\n",
       "Vehicle lease                                      1.009383  0.003047\n",
       "Traveler's check or cashier's check                1.009304  0.000062\n",
       "Other banking product or service                   1.007883  0.001383\n",
       "Conventional adjustable mortgage (ARM)             1.007725  0.029112\n",
       "Federal student loan debt                          1.007199  0.000446\n",
       "Conventional fixed mortgage                        1.007042  0.080991\n",
       "Other mortgage                                     1.007004  0.099361\n",
       "...                                                     ...       ...\n",
       "General-purpose prepaid card                       0.996706  0.000373\n",
       "Mortgage                                           0.996686  0.005513\n",
       "Other personal consumer report                     0.995134  0.000923\n",
       "Mortgage debt                                      0.994367  0.000659\n",
       "Other bank product/service                         0.993388  0.020446\n",
       "Money order                                        0.993090  0.000201\n",
       "Private student loan debt                          0.991838  0.000388\n",
       "Loan                                               0.990767  0.002071\n",
       "Vehicle loan                                       0.990751  0.020392\n",
       "Refund anticipation check                          0.990725  0.000094\n",
       "Credit card                                        0.989978  0.032922\n",
       "Check cashing                                      0.989688  0.000305\n",
       "Other debt                                         0.986323  0.007522\n",
       "Traveler’s/Cashier’s checks                        0.981604  0.000101\n",
       "Reverse mortgage                                   0.979997  0.002635\n",
       "Installment loan                                   0.972618  0.010709\n",
       "Credit repair services                             0.970862  0.000185\n",
       "Auto debt                                          0.967558  0.000698\n",
       "Medical debt                                       0.967140  0.003777\n",
       "Title loan                                         0.966242  0.000817\n",
       "Auto                                               0.960978  0.004307\n",
       "Other (i.e. phone, health club, etc.)              0.958714  0.051103\n",
       "Pawn loan                                          0.957775  0.000117\n",
       "Foreign currency exchange                          0.944968  0.000085\n",
       "I do not know                                      0.939909  0.038490\n",
       "Medical                                            0.921692  0.024329\n",
       "Payday loan debt                                   0.874686  0.000798\n",
       "Credit repair                                      0.867038  0.000117\n",
       "Payday loan                                        0.855032  0.009296\n",
       "Debt settlement                                    0.823232  0.000426\n",
       "\n",
       "[75 rows x 2 columns]"
      ]
     },
     "execution_count": 18,
     "metadata": {},
     "output_type": "execute_result"
    }
   ],
   "source": [
    "subprod = pd.DataFrame(data[['Sub-product','Timely_response']].groupby(['Sub-product']).mean())\n",
    "subprod.Timely_response = subprod.Timely_response/base\n",
    "subprod_cnt = data['Sub-product'].value_counts()/len(data['Sub-product'])\n",
    "subprod['cnt%'] = subprod_cnt\n",
    "\n",
    "subprod.sort(columns='Timely_response',ascending=False)"
   ]
  },
  {
   "cell_type": "code",
   "execution_count": 19,
   "metadata": {
    "collapsed": false
   },
   "outputs": [],
   "source": [
    "#notknow = data[data['Sub-product'] == 'I do not know']\n",
    "#notknow.Product.value_counts()"
   ]
  },
  {
   "cell_type": "code",
   "execution_count": 20,
   "metadata": {
    "collapsed": false
   },
   "outputs": [],
   "source": [
    "#debtc = data[data.Product == 'Debt collection']\n",
    "#debtc['Sub-product'].value_counts()"
   ]
  },
  {
   "cell_type": "markdown",
   "metadata": {},
   "source": [
    "The missing values in Sub-product are all from Credit reporting, Credit card or Payday loan. And we could find out that these 3 products don't have sub-product. So we can just assign their sub-product as the same as products."
   ]
  },
  {
   "cell_type": "code",
   "execution_count": 21,
   "metadata": {
    "collapsed": false
   },
   "outputs": [
    {
     "data": {
      "text/html": [
       "<div>\n",
       "<table border=\"1\" class=\"dataframe\">\n",
       "  <thead>\n",
       "    <tr style=\"text-align: right;\">\n",
       "      <th></th>\n",
       "      <th>Product</th>\n",
       "    </tr>\n",
       "  </thead>\n",
       "  <tbody>\n",
       "    <tr>\n",
       "      <th>Credit reporting</th>\n",
       "      <td>140424</td>\n",
       "    </tr>\n",
       "    <tr>\n",
       "      <th>Credit card</th>\n",
       "      <td>89190</td>\n",
       "    </tr>\n",
       "    <tr>\n",
       "      <th>Payday loan</th>\n",
       "      <td>5546</td>\n",
       "    </tr>\n",
       "  </tbody>\n",
       "</table>\n",
       "</div>"
      ],
      "text/plain": [
       "                  Product\n",
       "Credit reporting   140424\n",
       "Credit card         89190\n",
       "Payday loan          5546"
      ]
     },
     "execution_count": 21,
     "metadata": {},
     "output_type": "execute_result"
    }
   ],
   "source": [
    "subpnull = data[data['Sub-product'].isnull()]\n",
    "subpnull = pd.DataFrame(subpnull.Product.value_counts())\n",
    "subpnull"
   ]
  },
  {
   "cell_type": "code",
   "execution_count": 22,
   "metadata": {
    "collapsed": true
   },
   "outputs": [],
   "source": [
    "fill_subprod_as_prod = list(subpnull.index)"
   ]
  },
  {
   "cell_type": "markdown",
   "metadata": {},
   "source": [
    "---"
   ]
  },
  {
   "cell_type": "markdown",
   "metadata": {},
   "source": [
    "### Issue"
   ]
  },
  {
   "cell_type": "markdown",
   "metadata": {},
   "source": [
    "There are 166 knds of issues. A little bit much but acceptable."
   ]
  },
  {
   "cell_type": "code",
   "execution_count": 23,
   "metadata": {
    "collapsed": false
   },
   "outputs": [
    {
     "data": {
      "text/plain": [
       "(166, 1)"
      ]
     },
     "execution_count": 23,
     "metadata": {},
     "output_type": "execute_result"
    }
   ],
   "source": [
    "pd.DataFrame(data.Issue.value_counts()).shape"
   ]
  },
  {
   "cell_type": "code",
   "execution_count": 24,
   "metadata": {
    "collapsed": false
   },
   "outputs": [
    {
     "data": {
      "text/html": [
       "<div>\n",
       "<table border=\"1\" class=\"dataframe\">\n",
       "  <thead>\n",
       "    <tr style=\"text-align: right;\">\n",
       "      <th></th>\n",
       "      <th>Timely_response</th>\n",
       "    </tr>\n",
       "    <tr>\n",
       "      <th>Issue</th>\n",
       "      <th></th>\n",
       "    </tr>\n",
       "  </thead>\n",
       "  <tbody>\n",
       "    <tr>\n",
       "      <th>Problem with cash advance</th>\n",
       "      <td>1.000000</td>\n",
       "    </tr>\n",
       "    <tr>\n",
       "      <th>Lender damaged or destroyed vehicle</th>\n",
       "      <td>1.000000</td>\n",
       "    </tr>\n",
       "    <tr>\n",
       "      <th>Problem with an overdraft</th>\n",
       "      <td>1.000000</td>\n",
       "    </tr>\n",
       "    <tr>\n",
       "      <th>Convenience checks</th>\n",
       "      <td>1.000000</td>\n",
       "    </tr>\n",
       "    <tr>\n",
       "      <th>Problem with credit report or credit score</th>\n",
       "      <td>1.000000</td>\n",
       "    </tr>\n",
       "    <tr>\n",
       "      <th>Problem with overdraft</th>\n",
       "      <td>1.000000</td>\n",
       "    </tr>\n",
       "    <tr>\n",
       "      <th>Property was damaged or destroyed property</th>\n",
       "      <td>1.000000</td>\n",
       "    </tr>\n",
       "    <tr>\n",
       "      <th>Property was sold</th>\n",
       "      <td>1.000000</td>\n",
       "    </tr>\n",
       "    <tr>\n",
       "      <th>Overdraft, savings, or rewards features</th>\n",
       "      <td>1.000000</td>\n",
       "    </tr>\n",
       "    <tr>\n",
       "      <th>Unauthorized transactions or other transaction problem</th>\n",
       "      <td>1.000000</td>\n",
       "    </tr>\n",
       "    <tr>\n",
       "      <th>Credit limit changed</th>\n",
       "      <td>1.000000</td>\n",
       "    </tr>\n",
       "    <tr>\n",
       "      <th>Advertising, marketing or disclosures</th>\n",
       "      <td>1.000000</td>\n",
       "    </tr>\n",
       "    <tr>\n",
       "      <th>Was approved for a loan, but didn't receive money</th>\n",
       "      <td>1.000000</td>\n",
       "    </tr>\n",
       "    <tr>\n",
       "      <th>Vehicle was damaged or destroyed the vehicle</th>\n",
       "      <td>1.000000</td>\n",
       "    </tr>\n",
       "    <tr>\n",
       "      <th>Vehicle was repossessed or sold the vehicle</th>\n",
       "      <td>1.000000</td>\n",
       "    </tr>\n",
       "    <tr>\n",
       "      <th>Managing, opening, or closing your mobile wallet account</th>\n",
       "      <td>1.000000</td>\n",
       "    </tr>\n",
       "    <tr>\n",
       "      <th>Unable to get credit report/credit score</th>\n",
       "      <td>0.998895</td>\n",
       "    </tr>\n",
       "    <tr>\n",
       "      <th>Credit reporting company's investigation</th>\n",
       "      <td>0.998815</td>\n",
       "    </tr>\n",
       "    <tr>\n",
       "      <th>Advertising and marketing, including promotional offers</th>\n",
       "      <td>0.998415</td>\n",
       "    </tr>\n",
       "    <tr>\n",
       "      <th>Credit monitoring or identity protection</th>\n",
       "      <td>0.998192</td>\n",
       "    </tr>\n",
       "    <tr>\n",
       "      <th>Incorrect information on credit report</th>\n",
       "      <td>0.997848</td>\n",
       "    </tr>\n",
       "    <tr>\n",
       "      <th>Fees or interest</th>\n",
       "      <td>0.996127</td>\n",
       "    </tr>\n",
       "    <tr>\n",
       "      <th>Cash advance</th>\n",
       "      <td>0.995918</td>\n",
       "    </tr>\n",
       "    <tr>\n",
       "      <th>Other features, terms, or problems</th>\n",
       "      <td>0.995656</td>\n",
       "    </tr>\n",
       "    <tr>\n",
       "      <th>Problem with fraud alerts or security freezes</th>\n",
       "      <td>0.995564</td>\n",
       "    </tr>\n",
       "    <tr>\n",
       "      <th>Problem with a purchase shown on your statement</th>\n",
       "      <td>0.995059</td>\n",
       "    </tr>\n",
       "    <tr>\n",
       "      <th>Adding money</th>\n",
       "      <td>0.995050</td>\n",
       "    </tr>\n",
       "    <tr>\n",
       "      <th>Struggling to pay mortgage</th>\n",
       "      <td>0.994123</td>\n",
       "    </tr>\n",
       "    <tr>\n",
       "      <th>Unexpected or other fees</th>\n",
       "      <td>0.994048</td>\n",
       "    </tr>\n",
       "    <tr>\n",
       "      <th>Payoff process</th>\n",
       "      <td>0.993952</td>\n",
       "    </tr>\n",
       "    <tr>\n",
       "      <th>...</th>\n",
       "      <td>...</td>\n",
       "    </tr>\n",
       "    <tr>\n",
       "      <th>Threatened to contact someone or share information improperly</th>\n",
       "      <td>0.942755</td>\n",
       "    </tr>\n",
       "    <tr>\n",
       "      <th>Struggling to pay your loan</th>\n",
       "      <td>0.942363</td>\n",
       "    </tr>\n",
       "    <tr>\n",
       "      <th>Money was taken from your bank account on the wrong day or for the wrong amount</th>\n",
       "      <td>0.941176</td>\n",
       "    </tr>\n",
       "    <tr>\n",
       "      <th>Applied for loan/did not receive money</th>\n",
       "      <td>0.933333</td>\n",
       "    </tr>\n",
       "    <tr>\n",
       "      <th>Problem with additional add-on products or services</th>\n",
       "      <td>0.933333</td>\n",
       "    </tr>\n",
       "    <tr>\n",
       "      <th>Can't stop withdrawals from your bank account</th>\n",
       "      <td>0.933333</td>\n",
       "    </tr>\n",
       "    <tr>\n",
       "      <th>Disclosure verification of debt</th>\n",
       "      <td>0.933100</td>\n",
       "    </tr>\n",
       "    <tr>\n",
       "      <th>Cont'd attempts collect debt not owed</th>\n",
       "      <td>0.930971</td>\n",
       "    </tr>\n",
       "    <tr>\n",
       "      <th>Advertising</th>\n",
       "      <td>0.928571</td>\n",
       "    </tr>\n",
       "    <tr>\n",
       "      <th>False statements or representation</th>\n",
       "      <td>0.926324</td>\n",
       "    </tr>\n",
       "    <tr>\n",
       "      <th>Incorrect exchange rate</th>\n",
       "      <td>0.925926</td>\n",
       "    </tr>\n",
       "    <tr>\n",
       "      <th>Communication tactics</th>\n",
       "      <td>0.924299</td>\n",
       "    </tr>\n",
       "    <tr>\n",
       "      <th>Lender repossessed or sold the vehicle</th>\n",
       "      <td>0.924051</td>\n",
       "    </tr>\n",
       "    <tr>\n",
       "      <th>Improper contact or sharing of info</th>\n",
       "      <td>0.918876</td>\n",
       "    </tr>\n",
       "    <tr>\n",
       "      <th>Payment to acct not credited</th>\n",
       "      <td>0.913420</td>\n",
       "    </tr>\n",
       "    <tr>\n",
       "      <th>Unexpected/Other fees</th>\n",
       "      <td>0.912621</td>\n",
       "    </tr>\n",
       "    <tr>\n",
       "      <th>Can't stop charges to bank account</th>\n",
       "      <td>0.911765</td>\n",
       "    </tr>\n",
       "    <tr>\n",
       "      <th>Took or threatened to take negative or legal action</th>\n",
       "      <td>0.909736</td>\n",
       "    </tr>\n",
       "    <tr>\n",
       "      <th>Loan payment wasn't credited to your account</th>\n",
       "      <td>0.909091</td>\n",
       "    </tr>\n",
       "    <tr>\n",
       "      <th>Charged fees or interest you didn't expect</th>\n",
       "      <td>0.907923</td>\n",
       "    </tr>\n",
       "    <tr>\n",
       "      <th>Charged fees or interest I didn't expect</th>\n",
       "      <td>0.906681</td>\n",
       "    </tr>\n",
       "    <tr>\n",
       "      <th>Disclosures</th>\n",
       "      <td>0.897959</td>\n",
       "    </tr>\n",
       "    <tr>\n",
       "      <th>Taking/threatening an illegal action</th>\n",
       "      <td>0.888463</td>\n",
       "    </tr>\n",
       "    <tr>\n",
       "      <th>Charged bank acct wrong day or amt</th>\n",
       "      <td>0.878788</td>\n",
       "    </tr>\n",
       "    <tr>\n",
       "      <th>Received a loan I didn't apply for</th>\n",
       "      <td>0.875203</td>\n",
       "    </tr>\n",
       "    <tr>\n",
       "      <th>Excessive fees</th>\n",
       "      <td>0.860870</td>\n",
       "    </tr>\n",
       "    <tr>\n",
       "      <th>Can't contact lender</th>\n",
       "      <td>0.858951</td>\n",
       "    </tr>\n",
       "    <tr>\n",
       "      <th>Lender sold the property</th>\n",
       "      <td>0.857143</td>\n",
       "    </tr>\n",
       "    <tr>\n",
       "      <th>Can't contact lender or servicer</th>\n",
       "      <td>0.823529</td>\n",
       "    </tr>\n",
       "    <tr>\n",
       "      <th>Lender damaged or destroyed property</th>\n",
       "      <td>0.666667</td>\n",
       "    </tr>\n",
       "  </tbody>\n",
       "</table>\n",
       "<p>166 rows × 1 columns</p>\n",
       "</div>"
      ],
      "text/plain": [
       "                                                    Timely_response\n",
       "Issue                                                              \n",
       "Problem with cash advance                                  1.000000\n",
       "Lender damaged or destroyed vehicle                        1.000000\n",
       "Problem with an overdraft                                  1.000000\n",
       "Convenience checks                                         1.000000\n",
       "Problem with credit report or credit score                 1.000000\n",
       "Problem with overdraft                                     1.000000\n",
       "Property was damaged or destroyed property                 1.000000\n",
       "Property was sold                                          1.000000\n",
       "Overdraft, savings, or rewards features                    1.000000\n",
       "Unauthorized transactions or other transaction ...         1.000000\n",
       "Credit limit changed                                       1.000000\n",
       "Advertising, marketing or disclosures                      1.000000\n",
       "Was approved for a loan, but didn't receive money          1.000000\n",
       "Vehicle was damaged or destroyed the vehicle               1.000000\n",
       "Vehicle was repossessed or sold the vehicle                1.000000\n",
       "Managing, opening, or closing your mobile walle...         1.000000\n",
       "Unable to get credit report/credit score                   0.998895\n",
       "Credit reporting company's investigation                   0.998815\n",
       "Advertising and marketing, including promotiona...         0.998415\n",
       "Credit monitoring or identity protection                   0.998192\n",
       "Incorrect information on credit report                     0.997848\n",
       "Fees or interest                                           0.996127\n",
       "Cash advance                                               0.995918\n",
       "Other features, terms, or problems                         0.995656\n",
       "Problem with fraud alerts or security freezes              0.995564\n",
       "Problem with a purchase shown on your statement            0.995059\n",
       "Adding money                                               0.995050\n",
       "Struggling to pay mortgage                                 0.994123\n",
       "Unexpected or other fees                                   0.994048\n",
       "Payoff process                                             0.993952\n",
       "...                                                             ...\n",
       "Threatened to contact someone or share informat...         0.942755\n",
       "Struggling to pay your loan                                0.942363\n",
       "Money was taken from your bank account on the w...         0.941176\n",
       "Applied for loan/did not receive money                     0.933333\n",
       "Problem with additional add-on products or serv...         0.933333\n",
       "Can't stop withdrawals from your bank account              0.933333\n",
       "Disclosure verification of debt                            0.933100\n",
       "Cont'd attempts collect debt not owed                      0.930971\n",
       "Advertising                                                0.928571\n",
       "False statements or representation                         0.926324\n",
       "Incorrect exchange rate                                    0.925926\n",
       "Communication tactics                                      0.924299\n",
       "Lender repossessed or sold the vehicle                     0.924051\n",
       "Improper contact or sharing of info                        0.918876\n",
       "Payment to acct not credited                               0.913420\n",
       "Unexpected/Other fees                                      0.912621\n",
       "Can't stop charges to bank account                         0.911765\n",
       "Took or threatened to take negative or legal ac...         0.909736\n",
       "Loan payment wasn't credited to your account               0.909091\n",
       "Charged fees or interest you didn't expect                 0.907923\n",
       "Charged fees or interest I didn't expect                   0.906681\n",
       "Disclosures                                                0.897959\n",
       "Taking/threatening an illegal action                       0.888463\n",
       "Charged bank acct wrong day or amt                         0.878788\n",
       "Received a loan I didn't apply for                         0.875203\n",
       "Excessive fees                                             0.860870\n",
       "Can't contact lender                                       0.858951\n",
       "Lender sold the property                                   0.857143\n",
       "Can't contact lender or servicer                           0.823529\n",
       "Lender damaged or destroyed property                       0.666667\n",
       "\n",
       "[166 rows x 1 columns]"
      ]
     },
     "execution_count": 24,
     "metadata": {},
     "output_type": "execute_result"
    }
   ],
   "source": [
    "iss = pd.DataFrame(data[['Issue','Timely_response']].groupby(['Issue']).mean())\n",
    "iss = iss.sort(columns='Timely_response',ascending=False)\n",
    "iss"
   ]
  },
  {
   "cell_type": "code",
   "execution_count": 25,
   "metadata": {
    "collapsed": false
   },
   "outputs": [
    {
     "data": {
      "image/png": "[encoded data removed]",
      "text/plain": [
       "<matplotlib.figure.Figure at 0x11c395828>"
      ]
     },
     "metadata": {},
     "output_type": "display_data"
    }
   ],
   "source": [
    "iss.plot.density()\n",
    "\n",
    "yy = np.linspace(1,21,200)\n",
    "tr_base = np.array([0.972434 for i in range(len(yy))])\n",
    "plt.plot(tr_base, yy, 'r--')\n",
    "\n",
    "plt.show()"
   ]
  },
  {
   "cell_type": "code",
   "execution_count": null,
   "metadata": {
    "collapsed": true
   },
   "outputs": [],
   "source": []
  },
  {
   "cell_type": "markdown",
   "metadata": {},
   "source": [
    "Sub-issue"
   ]
  },
  {
   "cell_type": "code",
   "execution_count": 26,
   "metadata": {
    "collapsed": false
   },
   "outputs": [],
   "source": [
    "subissnull = pd.DataFrame(data[data['Sub-issue'].isnull()].Issue.value_counts())\n",
    "subissnull.columns = ['null_subIssue']\n",
    "subisn_index = list(subissnull.index)"
   ]
  },
  {
   "cell_type": "code",
   "execution_count": 27,
   "metadata": {
    "collapsed": false
   },
   "outputs": [],
   "source": [
    "issue = pd.DataFrame(data.Issue.value_counts())\n",
    "issue = pd.concat([subissnull, issue], axis = 1)"
   ]
  },
  {
   "cell_type": "code",
   "execution_count": 28,
   "metadata": {
    "collapsed": false
   },
   "outputs": [],
   "source": [
    "issue['fillIssue'] = issue.null_subIssue - issue.Issue\n",
    "issue = issue.fillna(0)"
   ]
  },
  {
   "cell_type": "code",
   "execution_count": 29,
   "metadata": {
    "collapsed": false
   },
   "outputs": [],
   "source": [
    "fill_subissue_as_other = list(issue[issue.fillIssue != 0].index)\n",
    "fill_subissue_as_issue = list(issue[issue.fillIssue == 0].index)"
   ]
  },
  {
   "cell_type": "markdown",
   "metadata": {},
   "source": [
    "---"
   ]
  },
  {
   "cell_type": "markdown",
   "metadata": {},
   "source": [
    "### Company"
   ]
  },
  {
   "cell_type": "markdown",
   "metadata": {},
   "source": [
    "4409 is too much.."
   ]
  },
  {
   "cell_type": "code",
   "execution_count": 30,
   "metadata": {
    "collapsed": false
   },
   "outputs": [
    {
     "data": {
      "text/plain": [
       "(4409, 1)"
      ]
     },
     "execution_count": 30,
     "metadata": {},
     "output_type": "execute_result"
    }
   ],
   "source": [
    "pd.DataFrame(data.Company.value_counts()).shape"
   ]
  },
  {
   "cell_type": "code",
   "execution_count": 31,
   "metadata": {
    "collapsed": false
   },
   "outputs": [
    {
     "data": {
      "image/png": "[encoded data removed]",
      "text/plain": [
       "<matplotlib.figure.Figure at 0x110a214e0>"
      ]
     },
     "metadata": {},
     "output_type": "display_data"
    }
   ],
   "source": [
    "cmpy = pd.DataFrame(data[['Company','Timely_response']].groupby(['Company']).mean())\n",
    "cmpy = iss.sort(columns='Timely_response',ascending=False)\n",
    "\n",
    "cmpy.plot.density()\n",
    "\n",
    "yy = np.linspace(1,21,200)\n",
    "tr_base = np.array([0.972434 for i in range(len(yy))])\n",
    "plt.plot(tr_base, yy, 'r--')\n",
    "\n",
    "\n",
    "plt.show()"
   ]
  },
  {
   "cell_type": "code",
   "execution_count": null,
   "metadata": {
    "collapsed": true
   },
   "outputs": [],
   "source": []
  },
  {
   "cell_type": "markdown",
   "metadata": {},
   "source": [
    "---"
   ]
  },
  {
   "cell_type": "markdown",
   "metadata": {},
   "source": [
    "### State"
   ]
  },
  {
   "cell_type": "code",
   "execution_count": 32,
   "metadata": {
    "collapsed": false
   },
   "outputs": [
    {
     "data": {
      "text/html": [
       "<div>\n",
       "<table border=\"1\" class=\"dataframe\">\n",
       "  <thead>\n",
       "    <tr style=\"text-align: right;\">\n",
       "      <th></th>\n",
       "      <th>Timely_response</th>\n",
       "    </tr>\n",
       "    <tr>\n",
       "      <th>State</th>\n",
       "      <th></th>\n",
       "    </tr>\n",
       "  </thead>\n",
       "  <tbody>\n",
       "    <tr>\n",
       "      <th>AA</th>\n",
       "      <td>1.000000</td>\n",
       "    </tr>\n",
       "    <tr>\n",
       "      <th>FM</th>\n",
       "      <td>1.000000</td>\n",
       "    </tr>\n",
       "    <tr>\n",
       "      <th>PW</th>\n",
       "      <td>1.000000</td>\n",
       "    </tr>\n",
       "    <tr>\n",
       "      <th>AS</th>\n",
       "      <td>1.000000</td>\n",
       "    </tr>\n",
       "    <tr>\n",
       "      <th>VI</th>\n",
       "      <td>0.990000</td>\n",
       "    </tr>\n",
       "    <tr>\n",
       "      <th>PR</th>\n",
       "      <td>0.983110</td>\n",
       "    </tr>\n",
       "    <tr>\n",
       "      <th>CT</th>\n",
       "      <td>0.979951</td>\n",
       "    </tr>\n",
       "    <tr>\n",
       "      <th>NY</th>\n",
       "      <td>0.979669</td>\n",
       "    </tr>\n",
       "    <tr>\n",
       "      <th>MA</th>\n",
       "      <td>0.979106</td>\n",
       "    </tr>\n",
       "    <tr>\n",
       "      <th>RI</th>\n",
       "      <td>0.978333</td>\n",
       "    </tr>\n",
       "    <tr>\n",
       "      <th>GU</th>\n",
       "      <td>0.977273</td>\n",
       "    </tr>\n",
       "    <tr>\n",
       "      <th>IL</th>\n",
       "      <td>0.977271</td>\n",
       "    </tr>\n",
       "    <tr>\n",
       "      <th>MI</th>\n",
       "      <td>0.976734</td>\n",
       "    </tr>\n",
       "    <tr>\n",
       "      <th>NJ</th>\n",
       "      <td>0.975157</td>\n",
       "    </tr>\n",
       "    <tr>\n",
       "      <th>AE</th>\n",
       "      <td>0.974860</td>\n",
       "    </tr>\n",
       "    <tr>\n",
       "      <th>AR</th>\n",
       "      <td>0.974585</td>\n",
       "    </tr>\n",
       "    <tr>\n",
       "      <th>MD</th>\n",
       "      <td>0.974112</td>\n",
       "    </tr>\n",
       "    <tr>\n",
       "      <th>VA</th>\n",
       "      <td>0.974074</td>\n",
       "    </tr>\n",
       "    <tr>\n",
       "      <th>VT</th>\n",
       "      <td>0.974036</td>\n",
       "    </tr>\n",
       "    <tr>\n",
       "      <th>NH</th>\n",
       "      <td>0.973788</td>\n",
       "    </tr>\n",
       "    <tr>\n",
       "      <th>FL</th>\n",
       "      <td>0.973741</td>\n",
       "    </tr>\n",
       "    <tr>\n",
       "      <th>DC</th>\n",
       "      <td>0.973119</td>\n",
       "    </tr>\n",
       "    <tr>\n",
       "      <th>NC</th>\n",
       "      <td>0.972537</td>\n",
       "    </tr>\n",
       "    <tr>\n",
       "      <th>PA</th>\n",
       "      <td>0.972529</td>\n",
       "    </tr>\n",
       "    <tr>\n",
       "      <th>DE</th>\n",
       "      <td>0.972523</td>\n",
       "    </tr>\n",
       "    <tr>\n",
       "      <th>GA</th>\n",
       "      <td>0.972125</td>\n",
       "    </tr>\n",
       "    <tr>\n",
       "      <th>OH</th>\n",
       "      <td>0.972090</td>\n",
       "    </tr>\n",
       "    <tr>\n",
       "      <th>AZ</th>\n",
       "      <td>0.971929</td>\n",
       "    </tr>\n",
       "    <tr>\n",
       "      <th>WI</th>\n",
       "      <td>0.971829</td>\n",
       "    </tr>\n",
       "    <tr>\n",
       "      <th>HI</th>\n",
       "      <td>0.971745</td>\n",
       "    </tr>\n",
       "    <tr>\n",
       "      <th>...</th>\n",
       "      <td>...</td>\n",
       "    </tr>\n",
       "    <tr>\n",
       "      <th>KY</th>\n",
       "      <td>0.970872</td>\n",
       "    </tr>\n",
       "    <tr>\n",
       "      <th>IA</th>\n",
       "      <td>0.970801</td>\n",
       "    </tr>\n",
       "    <tr>\n",
       "      <th>OR</th>\n",
       "      <td>0.970760</td>\n",
       "    </tr>\n",
       "    <tr>\n",
       "      <th>UT</th>\n",
       "      <td>0.970395</td>\n",
       "    </tr>\n",
       "    <tr>\n",
       "      <th>TX</th>\n",
       "      <td>0.970287</td>\n",
       "    </tr>\n",
       "    <tr>\n",
       "      <th>ND</th>\n",
       "      <td>0.970183</td>\n",
       "    </tr>\n",
       "    <tr>\n",
       "      <th>WA</th>\n",
       "      <td>0.970097</td>\n",
       "    </tr>\n",
       "    <tr>\n",
       "      <th>CA</th>\n",
       "      <td>0.970068</td>\n",
       "    </tr>\n",
       "    <tr>\n",
       "      <th>MO</th>\n",
       "      <td>0.969640</td>\n",
       "    </tr>\n",
       "    <tr>\n",
       "      <th>IN</th>\n",
       "      <td>0.969440</td>\n",
       "    </tr>\n",
       "    <tr>\n",
       "      <th>ME</th>\n",
       "      <td>0.969391</td>\n",
       "    </tr>\n",
       "    <tr>\n",
       "      <th>CO</th>\n",
       "      <td>0.969219</td>\n",
       "    </tr>\n",
       "    <tr>\n",
       "      <th>MP</th>\n",
       "      <td>0.967742</td>\n",
       "    </tr>\n",
       "    <tr>\n",
       "      <th>NV</th>\n",
       "      <td>0.967551</td>\n",
       "    </tr>\n",
       "    <tr>\n",
       "      <th>NM</th>\n",
       "      <td>0.967542</td>\n",
       "    </tr>\n",
       "    <tr>\n",
       "      <th>SC</th>\n",
       "      <td>0.967536</td>\n",
       "    </tr>\n",
       "    <tr>\n",
       "      <th>WV</th>\n",
       "      <td>0.967073</td>\n",
       "    </tr>\n",
       "    <tr>\n",
       "      <th>LA</th>\n",
       "      <td>0.966688</td>\n",
       "    </tr>\n",
       "    <tr>\n",
       "      <th>MH</th>\n",
       "      <td>0.966667</td>\n",
       "    </tr>\n",
       "    <tr>\n",
       "      <th>AK</th>\n",
       "      <td>0.966292</td>\n",
       "    </tr>\n",
       "    <tr>\n",
       "      <th>AL</th>\n",
       "      <td>0.966206</td>\n",
       "    </tr>\n",
       "    <tr>\n",
       "      <th>ID</th>\n",
       "      <td>0.965770</td>\n",
       "    </tr>\n",
       "    <tr>\n",
       "      <th>OK</th>\n",
       "      <td>0.965650</td>\n",
       "    </tr>\n",
       "    <tr>\n",
       "      <th>MS</th>\n",
       "      <td>0.965549</td>\n",
       "    </tr>\n",
       "    <tr>\n",
       "      <th>TN</th>\n",
       "      <td>0.965005</td>\n",
       "    </tr>\n",
       "    <tr>\n",
       "      <th>AP</th>\n",
       "      <td>0.964706</td>\n",
       "    </tr>\n",
       "    <tr>\n",
       "      <th>NE</th>\n",
       "      <td>0.962049</td>\n",
       "    </tr>\n",
       "    <tr>\n",
       "      <th>MT</th>\n",
       "      <td>0.960983</td>\n",
       "    </tr>\n",
       "    <tr>\n",
       "      <th>SD</th>\n",
       "      <td>0.953586</td>\n",
       "    </tr>\n",
       "    <tr>\n",
       "      <th>WY</th>\n",
       "      <td>0.943210</td>\n",
       "    </tr>\n",
       "  </tbody>\n",
       "</table>\n",
       "<p>62 rows × 1 columns</p>\n",
       "</div>"
      ],
      "text/plain": [
       "       Timely_response\n",
       "State                 \n",
       "AA            1.000000\n",
       "FM            1.000000\n",
       "PW            1.000000\n",
       "AS            1.000000\n",
       "VI            0.990000\n",
       "PR            0.983110\n",
       "CT            0.979951\n",
       "NY            0.979669\n",
       "MA            0.979106\n",
       "RI            0.978333\n",
       "GU            0.977273\n",
       "IL            0.977271\n",
       "MI            0.976734\n",
       "NJ            0.975157\n",
       "AE            0.974860\n",
       "AR            0.974585\n",
       "MD            0.974112\n",
       "VA            0.974074\n",
       "VT            0.974036\n",
       "NH            0.973788\n",
       "FL            0.973741\n",
       "DC            0.973119\n",
       "NC            0.972537\n",
       "PA            0.972529\n",
       "DE            0.972523\n",
       "GA            0.972125\n",
       "OH            0.972090\n",
       "AZ            0.971929\n",
       "WI            0.971829\n",
       "HI            0.971745\n",
       "...                ...\n",
       "KY            0.970872\n",
       "IA            0.970801\n",
       "OR            0.970760\n",
       "UT            0.970395\n",
       "TX            0.970287\n",
       "ND            0.970183\n",
       "WA            0.970097\n",
       "CA            0.970068\n",
       "MO            0.969640\n",
       "IN            0.969440\n",
       "ME            0.969391\n",
       "CO            0.969219\n",
       "MP            0.967742\n",
       "NV            0.967551\n",
       "NM            0.967542\n",
       "SC            0.967536\n",
       "WV            0.967073\n",
       "LA            0.966688\n",
       "MH            0.966667\n",
       "AK            0.966292\n",
       "AL            0.966206\n",
       "ID            0.965770\n",
       "OK            0.965650\n",
       "MS            0.965549\n",
       "TN            0.965005\n",
       "AP            0.964706\n",
       "NE            0.962049\n",
       "MT            0.960983\n",
       "SD            0.953586\n",
       "WY            0.943210\n",
       "\n",
       "[62 rows x 1 columns]"
      ]
     },
     "execution_count": 32,
     "metadata": {},
     "output_type": "execute_result"
    }
   ],
   "source": [
    "stt = pd.DataFrame(data[['State','Timely_response']].groupby(['State']).mean())\n",
    "stt = stt.sort(columns='Timely_response',ascending=False)\n",
    "stt"
   ]
  },
  {
   "cell_type": "code",
   "execution_count": null,
   "metadata": {
    "collapsed": true
   },
   "outputs": [],
   "source": []
  },
  {
   "cell_type": "markdown",
   "metadata": {
    "collapsed": true
   },
   "source": [
    "---"
   ]
  },
  {
   "cell_type": "markdown",
   "metadata": {},
   "source": [
    "### Submitted_via"
   ]
  },
  {
   "cell_type": "code",
   "execution_count": 33,
   "metadata": {
    "collapsed": false
   },
   "outputs": [
    {
     "name": "stdout",
     "output_type": "stream",
     "text": [
      "Web            609082\n",
      "Referral       140068\n",
      "Phone           56764\n",
      "Postal mail     53938\n",
      "Fax             11671\n",
      "Email             350\n",
      "Name: Submitted_via, dtype: int64\n"
     ]
    },
    {
     "data": {
      "image/png": "[encoded data removed]",
      "text/plain": [
       "<matplotlib.figure.Figure at 0x10ff2a198>"
      ]
     },
     "metadata": {},
     "output_type": "display_data"
    }
   ],
   "source": [
    "print(data.Submitted_via.value_counts())\n",
    "\n",
    "f,ax=plt.subplots(1,2,figsize=(15,7))\n",
    "\n",
    "data.Submitted_via.value_counts().plot.pie(autopct='%1.1f%%',ax=ax[0])\n",
    "sns.countplot('Submitted_via',hue='Timely_response',data=data,ax=ax[1])\n",
    "\n",
    "plt.show()"
   ]
  },
  {
   "cell_type": "markdown",
   "metadata": {},
   "source": []
  },
  {
   "cell_type": "code",
   "execution_count": 34,
   "metadata": {
    "collapsed": false
   },
   "outputs": [
    {
     "data": {
      "text/html": [
       "<div>\n",
       "<table border=\"1\" class=\"dataframe\">\n",
       "  <thead>\n",
       "    <tr style=\"text-align: right;\">\n",
       "      <th></th>\n",
       "      <th>Timely_response</th>\n",
       "      <th>over_avg</th>\n",
       "    </tr>\n",
       "    <tr>\n",
       "      <th>Submitted_via</th>\n",
       "      <th></th>\n",
       "      <th></th>\n",
       "    </tr>\n",
       "  </thead>\n",
       "  <tbody>\n",
       "    <tr>\n",
       "      <th>Email</th>\n",
       "      <td>0.971429</td>\n",
       "      <td>0.998966</td>\n",
       "    </tr>\n",
       "    <tr>\n",
       "      <th>Fax</th>\n",
       "      <td>0.974981</td>\n",
       "      <td>1.002619</td>\n",
       "    </tr>\n",
       "    <tr>\n",
       "      <th>Phone</th>\n",
       "      <td>0.968572</td>\n",
       "      <td>0.996028</td>\n",
       "    </tr>\n",
       "    <tr>\n",
       "      <th>Postal mail</th>\n",
       "      <td>0.981627</td>\n",
       "      <td>1.009454</td>\n",
       "    </tr>\n",
       "    <tr>\n",
       "      <th>Referral</th>\n",
       "      <td>0.979539</td>\n",
       "      <td>1.007306</td>\n",
       "    </tr>\n",
       "    <tr>\n",
       "      <th>Web</th>\n",
       "      <td>0.970298</td>\n",
       "      <td>0.997803</td>\n",
       "    </tr>\n",
       "  </tbody>\n",
       "</table>\n",
       "</div>"
      ],
      "text/plain": [
       "               Timely_response  over_avg\n",
       "Submitted_via                           \n",
       "Email                 0.971429  0.998966\n",
       "Fax                   0.974981  1.002619\n",
       "Phone                 0.968572  0.996028\n",
       "Postal mail           0.981627  1.009454\n",
       "Referral              0.979539  1.007306\n",
       "Web                   0.970298  0.997803"
      ]
     },
     "execution_count": 34,
     "metadata": {},
     "output_type": "execute_result"
    }
   ],
   "source": [
    "tr_submit = pd.DataFrame(data[['Submitted_via','Timely_response']].groupby(['Submitted_via']).mean())\n",
    "tr_submit['over_avg'] = tr_submit.Timely_response / 0.972434\n",
    "tr_submit"
   ]
  },
  {
   "cell_type": "code",
   "execution_count": null,
   "metadata": {
    "collapsed": true
   },
   "outputs": [],
   "source": []
  },
  {
   "cell_type": "markdown",
   "metadata": {},
   "source": [
    "---"
   ]
  },
  {
   "cell_type": "markdown",
   "metadata": {},
   "source": [
    "### Company_response_to_consumer"
   ]
  },
  {
   "cell_type": "code",
   "execution_count": 35,
   "metadata": {
    "collapsed": false
   },
   "outputs": [
    {
     "name": "stdout",
     "output_type": "stream",
     "text": [
      "Closed with explanation            660431\n",
      "Closed with non-monetary relief    105064\n",
      "Closed with monetary relief         55588\n",
      "Closed without relief               17868\n",
      "Closed                              17611\n",
      "In progress                          5586\n",
      "Closed with relief                   5304\n",
      "Untimely response                    4421\n",
      "Name: Company_response_to_consumer, dtype: int64\n"
     ]
    },
    {
     "data": {
      "image/png": "[encoded data removed]",
      "text/plain": [
       "<matplotlib.figure.Figure at 0x110130978>"
      ]
     },
     "metadata": {},
     "output_type": "display_data"
    }
   ],
   "source": [
    "print(data.Company_response_to_consumer.value_counts())\n",
    "\n",
    "f,ax=plt.subplots(1,2,figsize=(15,7))\n",
    "\n",
    "data.Company_response_to_consumer.value_counts().plot.pie(autopct='%1.1f%%',ax=ax[0])\n",
    "sns.countplot('Company_response_to_consumer',hue='Timely_response',data=data,ax=ax[1])\n",
    "\n",
    "plt.show()"
   ]
  },
  {
   "cell_type": "code",
   "execution_count": 36,
   "metadata": {
    "collapsed": false
   },
   "outputs": [
    {
     "data": {
      "text/html": [
       "<div>\n",
       "<table border=\"1\" class=\"dataframe\">\n",
       "  <thead>\n",
       "    <tr style=\"text-align: right;\">\n",
       "      <th></th>\n",
       "      <th>Timely_response</th>\n",
       "      <th>over_avg</th>\n",
       "    </tr>\n",
       "    <tr>\n",
       "      <th>Company_response_to_consumer</th>\n",
       "      <th></th>\n",
       "      <th></th>\n",
       "    </tr>\n",
       "  </thead>\n",
       "  <tbody>\n",
       "    <tr>\n",
       "      <th>Closed</th>\n",
       "      <td>0.901141</td>\n",
       "      <td>0.926686</td>\n",
       "    </tr>\n",
       "    <tr>\n",
       "      <th>Closed with explanation</th>\n",
       "      <td>0.977466</td>\n",
       "      <td>1.005175</td>\n",
       "    </tr>\n",
       "    <tr>\n",
       "      <th>Closed with monetary relief</th>\n",
       "      <td>0.985123</td>\n",
       "      <td>1.013048</td>\n",
       "    </tr>\n",
       "    <tr>\n",
       "      <th>Closed with non-monetary relief</th>\n",
       "      <td>0.986075</td>\n",
       "      <td>1.014028</td>\n",
       "    </tr>\n",
       "    <tr>\n",
       "      <th>Closed with relief</th>\n",
       "      <td>0.965498</td>\n",
       "      <td>0.992867</td>\n",
       "    </tr>\n",
       "    <tr>\n",
       "      <th>Closed without relief</th>\n",
       "      <td>0.971122</td>\n",
       "      <td>0.998650</td>\n",
       "    </tr>\n",
       "    <tr>\n",
       "      <th>In progress</th>\n",
       "      <td>0.999821</td>\n",
       "      <td>1.028163</td>\n",
       "    </tr>\n",
       "    <tr>\n",
       "      <th>Untimely response</th>\n",
       "      <td>0.000000</td>\n",
       "      <td>0.000000</td>\n",
       "    </tr>\n",
       "  </tbody>\n",
       "</table>\n",
       "</div>"
      ],
      "text/plain": [
       "                                 Timely_response  over_avg\n",
       "Company_response_to_consumer                              \n",
       "Closed                                  0.901141  0.926686\n",
       "Closed with explanation                 0.977466  1.005175\n",
       "Closed with monetary relief             0.985123  1.013048\n",
       "Closed with non-monetary relief         0.986075  1.014028\n",
       "Closed with relief                      0.965498  0.992867\n",
       "Closed without relief                   0.971122  0.998650\n",
       "In progress                             0.999821  1.028163\n",
       "Untimely response                       0.000000  0.000000"
      ]
     },
     "execution_count": 36,
     "metadata": {},
     "output_type": "execute_result"
    }
   ],
   "source": [
    "tr_c2c = pd.DataFrame(data[['Company_response_to_consumer','Timely_response']].groupby(['Company_response_to_consumer']).mean())\n",
    "tr_c2c['over_avg'] = tr_c2c.Timely_response / 0.972434\n",
    "tr_c2c"
   ]
  },
  {
   "cell_type": "code",
   "execution_count": null,
   "metadata": {
    "collapsed": true
   },
   "outputs": [],
   "source": []
  },
  {
   "cell_type": "markdown",
   "metadata": {},
   "source": [
    "---"
   ]
  },
  {
   "cell_type": "markdown",
   "metadata": {},
   "source": [
    "### Consumer Disputed"
   ]
  },
  {
   "cell_type": "code",
   "execution_count": 37,
   "metadata": {
    "collapsed": false
   },
   "outputs": [
    {
     "data": {
      "image/png": "[encoded data removed]",
      "text/plain": [
       "<matplotlib.figure.Figure at 0x10fcdd588>"
      ]
     },
     "metadata": {},
     "output_type": "display_data"
    }
   ],
   "source": [
    "sns.countplot('Consumer_disputed',hue='Timely_response',data=data)\n",
    "plt.show()"
   ]
  },
  {
   "cell_type": "code",
   "execution_count": 38,
   "metadata": {
    "collapsed": false
   },
   "outputs": [
    {
     "data": {
      "text/html": [
       "<div>\n",
       "<table border=\"1\" class=\"dataframe\">\n",
       "  <thead>\n",
       "    <tr style=\"text-align: right;\">\n",
       "      <th></th>\n",
       "      <th>Timely_response</th>\n",
       "      <th>over_avg</th>\n",
       "    </tr>\n",
       "    <tr>\n",
       "      <th>Consumer_disputed</th>\n",
       "      <th></th>\n",
       "      <th></th>\n",
       "    </tr>\n",
       "  </thead>\n",
       "  <tbody>\n",
       "    <tr>\n",
       "      <th>No</th>\n",
       "      <td>0.969160</td>\n",
       "      <td>0.996634</td>\n",
       "    </tr>\n",
       "    <tr>\n",
       "      <th>Yes</th>\n",
       "      <td>0.982679</td>\n",
       "      <td>1.010536</td>\n",
       "    </tr>\n",
       "  </tbody>\n",
       "</table>\n",
       "</div>"
      ],
      "text/plain": [
       "                   Timely_response  over_avg\n",
       "Consumer_disputed                           \n",
       "No                        0.969160  0.996634\n",
       "Yes                       0.982679  1.010536"
      ]
     },
     "execution_count": 38,
     "metadata": {},
     "output_type": "execute_result"
    }
   ],
   "source": [
    "tr_disp = pd.DataFrame(data[['Consumer_disputed','Timely_response']].groupby(['Consumer_disputed']).mean())\n",
    "tr_disp['over_avg'] = tr_disp.Timely_response / 0.972434\n",
    "tr_disp"
   ]
  },
  {
   "cell_type": "code",
   "execution_count": null,
   "metadata": {
    "collapsed": true
   },
   "outputs": [],
   "source": []
  },
  {
   "cell_type": "markdown",
   "metadata": {},
   "source": [
    "### - Dealing with missing values"
   ]
  },
  {
   "cell_type": "markdown",
   "metadata": {},
   "source": [
    "Delete features that have too much NAs."
   ]
  },
  {
   "cell_type": "code",
   "execution_count": 39,
   "metadata": {
    "collapsed": true
   },
   "outputs": [],
   "source": [
    "xcol = list(na[na['na%'] > 0.6].index)\n",
    "data = data.drop(xcol, 1)"
   ]
  },
  {
   "cell_type": "code",
   "execution_count": 40,
   "metadata": {
    "collapsed": true
   },
   "outputs": [],
   "source": [
    "na = pd.DataFrame(data.isnull().sum())\n",
    "na.columns = ['na']\n",
    "na['na%'] = na.na/data.shape[0]"
   ]
  },
  {
   "cell_type": "markdown",
   "metadata": {},
   "source": [
    "For now just delete Sub-issue and Sub-prod. If needed, we could fill Sub-issue with Other or Issue, and fill Sub-prod with Prod."
   ]
  },
  {
   "cell_type": "code",
   "execution_count": 41,
   "metadata": {
    "collapsed": false
   },
   "outputs": [],
   "source": [
    "xcol = list(na[(na['na%'] > 0.2)].index)\n",
    "data = data.drop(xcol, 1)"
   ]
  },
  {
   "cell_type": "markdown",
   "metadata": {},
   "source": [
    "Fill NAs in Consumer_disputed as -1. And label 1 to Yes, 0 to No."
   ]
  },
  {
   "cell_type": "code",
   "execution_count": 42,
   "metadata": {
    "collapsed": false
   },
   "outputs": [],
   "source": [
    "data.Consumer_disputed[data.Consumer_disputed == 'Yes'] = 1\n",
    "data.Consumer_disputed[data.Consumer_disputed == 'No'] = 0\n",
    "data.Consumer_disputed[data.Consumer_disputed.isnull()] = -1"
   ]
  },
  {
   "cell_type": "markdown",
   "metadata": {},
   "source": [
    "Just delete NA rolls in ZIP_code and State."
   ]
  },
  {
   "cell_type": "code",
   "execution_count": 43,
   "metadata": {
    "collapsed": false
   },
   "outputs": [
    {
     "data": {
      "text/plain": [
       "(860606, 12)"
      ]
     },
     "execution_count": 43,
     "metadata": {},
     "output_type": "execute_result"
    }
   ],
   "source": [
    "data = data.dropna()\n",
    "data.shape"
   ]
  },
  {
   "cell_type": "code",
   "execution_count": 44,
   "metadata": {
    "collapsed": false
   },
   "outputs": [
    {
     "data": {
      "text/html": [
       "<div>\n",
       "<table border=\"1\" class=\"dataframe\">\n",
       "  <thead>\n",
       "    <tr style=\"text-align: right;\">\n",
       "      <th></th>\n",
       "      <th>na</th>\n",
       "      <th>na%</th>\n",
       "    </tr>\n",
       "  </thead>\n",
       "  <tbody>\n",
       "    <tr>\n",
       "      <th>Date_received</th>\n",
       "      <td>0</td>\n",
       "      <td>0.0</td>\n",
       "    </tr>\n",
       "    <tr>\n",
       "      <th>Product</th>\n",
       "      <td>0</td>\n",
       "      <td>0.0</td>\n",
       "    </tr>\n",
       "    <tr>\n",
       "      <th>Issue</th>\n",
       "      <td>0</td>\n",
       "      <td>0.0</td>\n",
       "    </tr>\n",
       "    <tr>\n",
       "      <th>Company</th>\n",
       "      <td>0</td>\n",
       "      <td>0.0</td>\n",
       "    </tr>\n",
       "    <tr>\n",
       "      <th>State</th>\n",
       "      <td>0</td>\n",
       "      <td>0.0</td>\n",
       "    </tr>\n",
       "    <tr>\n",
       "      <th>ZIP_code</th>\n",
       "      <td>0</td>\n",
       "      <td>0.0</td>\n",
       "    </tr>\n",
       "    <tr>\n",
       "      <th>Submitted_via</th>\n",
       "      <td>0</td>\n",
       "      <td>0.0</td>\n",
       "    </tr>\n",
       "    <tr>\n",
       "      <th>Date_sent_to_company</th>\n",
       "      <td>0</td>\n",
       "      <td>0.0</td>\n",
       "    </tr>\n",
       "    <tr>\n",
       "      <th>Company_response_to_consumer</th>\n",
       "      <td>0</td>\n",
       "      <td>0.0</td>\n",
       "    </tr>\n",
       "    <tr>\n",
       "      <th>Timely_response</th>\n",
       "      <td>0</td>\n",
       "      <td>0.0</td>\n",
       "    </tr>\n",
       "    <tr>\n",
       "      <th>Consumer_disputed</th>\n",
       "      <td>0</td>\n",
       "      <td>0.0</td>\n",
       "    </tr>\n",
       "    <tr>\n",
       "      <th>Complaint_ID</th>\n",
       "      <td>0</td>\n",
       "      <td>0.0</td>\n",
       "    </tr>\n",
       "  </tbody>\n",
       "</table>\n",
       "</div>"
      ],
      "text/plain": [
       "                              na  na%\n",
       "Date_received                  0  0.0\n",
       "Product                        0  0.0\n",
       "Issue                          0  0.0\n",
       "Company                        0  0.0\n",
       "State                          0  0.0\n",
       "ZIP_code                       0  0.0\n",
       "Submitted_via                  0  0.0\n",
       "Date_sent_to_company           0  0.0\n",
       "Company_response_to_consumer   0  0.0\n",
       "Timely_response                0  0.0\n",
       "Consumer_disputed              0  0.0\n",
       "Complaint_ID                   0  0.0"
      ]
     },
     "execution_count": 44,
     "metadata": {},
     "output_type": "execute_result"
    }
   ],
   "source": [
    "na = pd.DataFrame(data.isnull().sum())\n",
    "na.columns = ['na']\n",
    "na['na%'] = na.na/data.shape[0]\n",
    "na = na.sort(columns='na%', ascending=False)\n",
    "na"
   ]
  },
  {
   "cell_type": "code",
   "execution_count": null,
   "metadata": {
    "collapsed": true
   },
   "outputs": [],
   "source": []
  },
  {
   "cell_type": "markdown",
   "metadata": {},
   "source": [
    "### Change Data Type"
   ]
  },
  {
   "cell_type": "code",
   "execution_count": 45,
   "metadata": {
    "collapsed": false
   },
   "outputs": [],
   "source": [
    "data.Consumer_disputed = data.Consumer_disputed.astype('int')\n",
    "data.Timely_response = data.Timely_response.astype('int')"
   ]
  },
  {
   "cell_type": "code",
   "execution_count": 46,
   "metadata": {
    "collapsed": false,
    "scrolled": false
   },
   "outputs": [
    {
     "data": {
      "text/html": [
       "<div>\n",
       "<table border=\"1\" class=\"dataframe\">\n",
       "  <thead>\n",
       "    <tr style=\"text-align: right;\">\n",
       "      <th></th>\n",
       "      <th>0</th>\n",
       "    </tr>\n",
       "  </thead>\n",
       "  <tbody>\n",
       "    <tr>\n",
       "      <th>Date_received</th>\n",
       "      <td>object</td>\n",
       "    </tr>\n",
       "    <tr>\n",
       "      <th>Product</th>\n",
       "      <td>object</td>\n",
       "    </tr>\n",
       "    <tr>\n",
       "      <th>Issue</th>\n",
       "      <td>object</td>\n",
       "    </tr>\n",
       "    <tr>\n",
       "      <th>Company</th>\n",
       "      <td>object</td>\n",
       "    </tr>\n",
       "    <tr>\n",
       "      <th>State</th>\n",
       "      <td>object</td>\n",
       "    </tr>\n",
       "    <tr>\n",
       "      <th>ZIP_code</th>\n",
       "      <td>object</td>\n",
       "    </tr>\n",
       "    <tr>\n",
       "      <th>Submitted_via</th>\n",
       "      <td>object</td>\n",
       "    </tr>\n",
       "    <tr>\n",
       "      <th>Date_sent_to_company</th>\n",
       "      <td>object</td>\n",
       "    </tr>\n",
       "    <tr>\n",
       "      <th>Company_response_to_consumer</th>\n",
       "      <td>object</td>\n",
       "    </tr>\n",
       "    <tr>\n",
       "      <th>Timely_response</th>\n",
       "      <td>int64</td>\n",
       "    </tr>\n",
       "    <tr>\n",
       "      <th>Consumer_disputed</th>\n",
       "      <td>int64</td>\n",
       "    </tr>\n",
       "    <tr>\n",
       "      <th>Complaint_ID</th>\n",
       "      <td>int64</td>\n",
       "    </tr>\n",
       "  </tbody>\n",
       "</table>\n",
       "</div>"
      ],
      "text/plain": [
       "                                   0\n",
       "Date_received                 object\n",
       "Product                       object\n",
       "Issue                         object\n",
       "Company                       object\n",
       "State                         object\n",
       "ZIP_code                      object\n",
       "Submitted_via                 object\n",
       "Date_sent_to_company          object\n",
       "Company_response_to_consumer  object\n",
       "Timely_response                int64\n",
       "Consumer_disputed              int64\n",
       "Complaint_ID                   int64"
      ]
     },
     "execution_count": 46,
     "metadata": {},
     "output_type": "execute_result"
    }
   ],
   "source": [
    "pd.DataFrame(data.dtypes)"
   ]
  },
  {
   "cell_type": "code",
   "execution_count": 66,
   "metadata": {
    "collapsed": false
   },
   "outputs": [],
   "source": [
    "data.to_csv('./cleaned_1.csv')"
   ]
  },
  {
   "cell_type": "code",
   "execution_count": null,
   "metadata": {
    "collapsed": true
   },
   "outputs": [],
   "source": []
  },
  {
   "cell_type": "markdown",
   "metadata": {
    "collapsed": true
   },
   "source": [
    "### Time Series Analysis"
   ]
  },
  {
   "cell_type": "code",
   "execution_count": 55,
   "metadata": {
    "collapsed": false
   },
   "outputs": [
    {
     "data": {
      "text/html": [
       "<div>\n",
       "<table border=\"1\" class=\"dataframe\">\n",
       "  <thead>\n",
       "    <tr style=\"text-align: right;\">\n",
       "      <th></th>\n",
       "      <th>Date_received</th>\n",
       "      <th>Product</th>\n",
       "      <th>Issue</th>\n",
       "      <th>Company</th>\n",
       "      <th>State</th>\n",
       "      <th>ZIP_code</th>\n",
       "      <th>Submitted_via</th>\n",
       "      <th>Date_sent_to_company</th>\n",
       "      <th>Company_response_to_consumer</th>\n",
       "      <th>Timely_response</th>\n",
       "      <th>Consumer_disputed</th>\n",
       "      <th>Complaint_ID</th>\n",
       "    </tr>\n",
       "  </thead>\n",
       "  <tbody>\n",
       "    <tr>\n",
       "      <th>151623</th>\n",
       "      <td>2011-12-01</td>\n",
       "      <td>Credit card</td>\n",
       "      <td>Credit reporting</td>\n",
       "      <td>CAPITAL ONE FINANCIAL CORPORATION</td>\n",
       "      <td>AZ</td>\n",
       "      <td>85704</td>\n",
       "      <td>Referral</td>\n",
       "      <td>2011-12-01</td>\n",
       "      <td>Closed without relief</td>\n",
       "      <td>1</td>\n",
       "      <td>0</td>\n",
       "      <td>2051</td>\n",
       "    </tr>\n",
       "    <tr>\n",
       "      <th>607185</th>\n",
       "      <td>2011-12-01</td>\n",
       "      <td>Credit card</td>\n",
       "      <td>Rewards</td>\n",
       "      <td>CITIBANK, N.A.</td>\n",
       "      <td>OH</td>\n",
       "      <td>45415</td>\n",
       "      <td>Referral</td>\n",
       "      <td>2011-12-01</td>\n",
       "      <td>Closed with relief</td>\n",
       "      <td>0</td>\n",
       "      <td>0</td>\n",
       "      <td>2063</td>\n",
       "    </tr>\n",
       "    <tr>\n",
       "      <th>364788</th>\n",
       "      <td>2011-12-01</td>\n",
       "      <td>Credit card</td>\n",
       "      <td>APR or interest rate</td>\n",
       "      <td>SYNCHRONY FINANCIAL</td>\n",
       "      <td>NJ</td>\n",
       "      <td>08087</td>\n",
       "      <td>Web</td>\n",
       "      <td>2011-12-01</td>\n",
       "      <td>Closed with relief</td>\n",
       "      <td>1</td>\n",
       "      <td>0</td>\n",
       "      <td>2105</td>\n",
       "    </tr>\n",
       "  </tbody>\n",
       "</table>\n",
       "</div>"
      ],
      "text/plain": [
       "       Date_received      Product                 Issue  \\\n",
       "151623    2011-12-01  Credit card      Credit reporting   \n",
       "607185    2011-12-01  Credit card               Rewards   \n",
       "364788    2011-12-01  Credit card  APR or interest rate   \n",
       "\n",
       "                                  Company State ZIP_code Submitted_via  \\\n",
       "151623  CAPITAL ONE FINANCIAL CORPORATION    AZ    85704      Referral   \n",
       "607185                     CITIBANK, N.A.    OH    45415      Referral   \n",
       "364788                SYNCHRONY FINANCIAL    NJ    08087           Web   \n",
       "\n",
       "       Date_sent_to_company Company_response_to_consumer  Timely_response  \\\n",
       "151623           2011-12-01        Closed without relief                1   \n",
       "607185           2011-12-01           Closed with relief                0   \n",
       "364788           2011-12-01           Closed with relief                1   \n",
       "\n",
       "        Consumer_disputed  Complaint_ID  \n",
       "151623                  0          2051  \n",
       "607185                  0          2063  \n",
       "364788                  0          2105  "
      ]
     },
     "execution_count": 55,
     "metadata": {},
     "output_type": "execute_result"
    }
   ],
   "source": [
    "data.head(3)"
   ]
  },
  {
   "cell_type": "code",
   "execution_count": 49,
   "metadata": {
    "collapsed": true
   },
   "outputs": [],
   "source": [
    "data.Date_received = pd.to_datetime(data.Date_received)"
   ]
  },
  {
   "cell_type": "code",
   "execution_count": 50,
   "metadata": {
    "collapsed": true
   },
   "outputs": [],
   "source": [
    "data.Date_sent_to_company = pd.to_datetime(data.Date_sent_to_company)"
   ]
  },
  {
   "cell_type": "code",
   "execution_count": 54,
   "metadata": {
    "collapsed": false
   },
   "outputs": [],
   "source": [
    "data = data.sort('Date_received',ascending=True)"
   ]
  },
  {
   "cell_type": "code",
   "execution_count": 69,
   "metadata": {
    "collapsed": false
   },
   "outputs": [
    {
     "data": {
      "text/plain": [
       "Date_received                   datetime64[ns]\n",
       "Product                                 object\n",
       "Issue                                   object\n",
       "Company                                 object\n",
       "State                                   object\n",
       "ZIP_code                                object\n",
       "Submitted_via                           object\n",
       "Date_sent_to_company            datetime64[ns]\n",
       "Company_response_to_consumer            object\n",
       "Timely_response                          int64\n",
       "Consumer_disputed                        int64\n",
       "Complaint_ID                             int64\n",
       "dtype: object"
      ]
     },
     "execution_count": 69,
     "metadata": {},
     "output_type": "execute_result"
    }
   ],
   "source": [
    "data.dtypes"
   ]
  },
  {
   "cell_type": "code",
   "execution_count": null,
   "metadata": {
    "collapsed": true
   },
   "outputs": [],
   "source": []
  }
 ],
 "metadata": {
  "anaconda-cloud": {},
  "kernelspec": {
   "display_name": "Python [Root]",
   "language": "python",
   "name": "Python [Root]"
  },
  "language_info": {
   "codemirror_mode": {
    "name": "ipython",
    "version": 3
   },
   "file_extension": ".py",
   "mimetype": "text/x-python",
   "name": "python",
   "nbconvert_exporter": "python",
   "pygments_lexer": "ipython3",
   "version": "3.5.2"
  }
 },
 "nbformat": 4,
 "nbformat_minor": 1
}
